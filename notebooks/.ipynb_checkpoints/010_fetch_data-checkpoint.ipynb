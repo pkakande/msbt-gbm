{
 "cells": [
  {
   "cell_type": "markdown",
   "id": "f2403076",
   "metadata": {},
   "source": [
    "### Data from NCI Genomic Data Commons (GDC)"
   ]
  },
  {
   "cell_type": "markdown",
   "id": "782e7263",
   "metadata": {},
   "source": [
    "Please run `getGBMData.sh` in the src folder <br>\n",
    "This calls `getGBMData.py` to download the data"
   ]
  },
  {
   "cell_type": "markdown",
   "id": "a44639e2",
   "metadata": {},
   "source": [
    "### Processed Data from UCSC (https://xenabrowser.net/datapages/)"
   ]
  },
  {
   "cell_type": "code",
   "execution_count": 1,
   "id": "4f6d2684",
   "metadata": {},
   "outputs": [],
   "source": [
    "raw_data_folder = \"../data/raw/\""
   ]
  },
  {
   "cell_type": "code",
   "execution_count": 2,
   "id": "74c6d74e",
   "metadata": {},
   "outputs": [],
   "source": [
    "# download paths\n",
    "genexp_download_url = \"https://gdc-hub.s3.us-east-1.amazonaws.com/download/TCGA-GBM.star_tpm.tsv.gz\"\n",
    "protexp_download_url = \"https://gdc-hub.s3.us-east-1.amazonaws.com/download/TCGA-GBM.protein.tsv.gz\"\n",
    "cnv_download_url = \"https://gdc-hub.s3.us-east-1.amazonaws.com/download/TCGA-GBM.gene-level_absolute.tsv.gz\"\n",
    "snpindel_download_url = \"https://gdc-hub.s3.us-east-1.amazonaws.com/download/TCGA-GBM.somaticmutation_wxs.tsv.gz\"\n",
    "met27_download_url = \"https://gdc-hub.s3.us-east-1.amazonaws.com/download/TCGA-GBM.methylation27.tsv.gz\"\n",
    "met450_download_url = \"https://gdc-hub.s3.us-east-1.amazonaws.com/download/TCGA-GBM.methylation450.tsv.gz\"\n",
    "mirnaexp_download_url = \"https://gdc-hub.s3.us-east-1.amazonaws.com/download/TCGA-GBM.mirna.tsv.gz\"\n",
    "surv_download_url = \"https://gdc-hub.s3.us-east-1.amazonaws.com/download/TCGA-GBM.survival.tsv.gz\"\n",
    "phen_download_url = \"https://gdc-hub.s3.us-east-1.amazonaws.com/download/TCGA-GBM.clinical.tsv.gz\""
   ]
  },
  {
   "cell_type": "code",
   "execution_count": 3,
   "id": "b0af377f",
   "metadata": {},
   "outputs": [
    {
     "name": "stdout",
     "output_type": "stream",
     "text": [
      "wget: /opt/ohpc/admin/spack/0.17.0/opt/spack/linux-rocky8-sandybridge/gcc-8.5.0/anaconda3-2021.05-s7wekg6xckaafcmvnnl7izhz7akpnzqd/lib/libuuid.so.1: no version information available (required by wget)\n",
      "--2025-01-08 00:17:34--  https://gdc-hub.s3.us-east-1.amazonaws.com/download/TCGA-GBM.star_tpm.tsv.gz\n",
      "Resolving gdc-hub.s3.us-east-1.amazonaws.com (gdc-hub.s3.us-east-1.amazonaws.com)... 52.216.209.138, 16.182.67.2, 16.182.100.146, ...\n",
      "Connecting to gdc-hub.s3.us-east-1.amazonaws.com (gdc-hub.s3.us-east-1.amazonaws.com)|52.216.209.138|:443... connected.\n",
      "HTTP request sent, awaiting response... 200 OK\n",
      "Length: 52431838 (50M) [text/tab-separated-values]\n",
      "Saving to: ‘../data/raw/TCGA-GBM.star_tpm.tsv.gz’\n",
      "\n",
      "TCGA-GBM.star_tpm.t 100%[===================>]  50.00M  3.46MB/s    in 23s     \n",
      "\n",
      "2025-01-08 00:18:02 (2.19 MB/s) - ‘../data/raw/TCGA-GBM.star_tpm.tsv.gz’ saved [52431838/52431838]\n",
      "\n"
     ]
    }
   ],
   "source": [
    "# Download gene expression data (STAR-TPM)\n",
    "!wget -P {raw_data_folder} {genexp_download_url}"
   ]
  },
  {
   "cell_type": "code",
   "execution_count": 4,
   "id": "1b1629f0",
   "metadata": {},
   "outputs": [
    {
     "name": "stdout",
     "output_type": "stream",
     "text": [
      "wget: /opt/ohpc/admin/spack/0.17.0/opt/spack/linux-rocky8-sandybridge/gcc-8.5.0/anaconda3-2021.05-s7wekg6xckaafcmvnnl7izhz7akpnzqd/lib/libuuid.so.1: no version information available (required by wget)\n",
      "--2025-01-08 00:18:02--  https://gdc-hub.s3.us-east-1.amazonaws.com/download/TCGA-GBM.protein.tsv.gz\n",
      "Resolving gdc-hub.s3.us-east-1.amazonaws.com (gdc-hub.s3.us-east-1.amazonaws.com)... 52.217.165.242, 52.217.122.162, 52.216.205.78, ...\n",
      "Connecting to gdc-hub.s3.us-east-1.amazonaws.com (gdc-hub.s3.us-east-1.amazonaws.com)|52.217.165.242|:443... connected.\n",
      "HTTP request sent, awaiting response... 200 OK\n",
      "Length: 566033 (553K) [text/tab-separated-values]\n",
      "Saving to: ‘../data/raw/TCGA-GBM.protein.tsv.gz’\n",
      "\n",
      "TCGA-GBM.protein.ts 100%[===================>] 552.77K   108KB/s    in 5.1s    \n",
      "\n",
      "2025-01-08 00:18:11 (108 KB/s) - ‘../data/raw/TCGA-GBM.protein.tsv.gz’ saved [566033/566033]\n",
      "\n"
     ]
    }
   ],
   "source": [
    "# Download protein expression data\n",
    "!wget -P {raw_data_folder} {protexp_download_url}"
   ]
  },
  {
   "cell_type": "code",
   "execution_count": 5,
   "id": "c415f4a3",
   "metadata": {},
   "outputs": [
    {
     "name": "stdout",
     "output_type": "stream",
     "text": [
      "wget: /opt/ohpc/admin/spack/0.17.0/opt/spack/linux-rocky8-sandybridge/gcc-8.5.0/anaconda3-2021.05-s7wekg6xckaafcmvnnl7izhz7akpnzqd/lib/libuuid.so.1: no version information available (required by wget)\n",
      "--2025-01-08 00:18:11--  https://gdc-hub.s3.us-east-1.amazonaws.com/download/TCGA-GBM.gene-level_absolute.tsv.gz\n",
      "Resolving gdc-hub.s3.us-east-1.amazonaws.com (gdc-hub.s3.us-east-1.amazonaws.com)... 54.231.137.218, 52.216.58.210, 54.231.229.90, ...\n",
      "Connecting to gdc-hub.s3.us-east-1.amazonaws.com (gdc-hub.s3.us-east-1.amazonaws.com)|54.231.137.218|:443... connected.\n",
      "HTTP request sent, awaiting response... 200 OK\n",
      "Length: 2296068 (2.2M) [text/tab-separated-values]\n",
      "Saving to: ‘../data/raw/TCGA-GBM.gene-level_absolute.tsv.gz’\n",
      "\n",
      "TCGA-GBM.gene-level 100%[===================>]   2.19M   417KB/s    in 7.6s    \n",
      "\n",
      "2025-01-08 00:18:23 (294 KB/s) - ‘../data/raw/TCGA-GBM.gene-level_absolute.tsv.gz’ saved [2296068/2296068]\n",
      "\n"
     ]
    }
   ],
   "source": [
    "# Download copy number (gene-level) data (absolute)\n",
    "!wget -P {raw_data_folder} {cnv_download_url}"
   ]
  },
  {
   "cell_type": "code",
   "execution_count": 6,
   "id": "b1ecc33f",
   "metadata": {},
   "outputs": [
    {
     "name": "stdout",
     "output_type": "stream",
     "text": [
      "wget: /opt/ohpc/admin/spack/0.17.0/opt/spack/linux-rocky8-sandybridge/gcc-8.5.0/anaconda3-2021.05-s7wekg6xckaafcmvnnl7izhz7akpnzqd/lib/libuuid.so.1: no version information available (required by wget)\n",
      "--2025-01-08 00:18:24--  https://gdc-hub.s3.us-east-1.amazonaws.com/download/TCGA-GBM.somaticmutation_wxs.tsv.gz\n",
      "Resolving gdc-hub.s3.us-east-1.amazonaws.com (gdc-hub.s3.us-east-1.amazonaws.com)... 54.231.235.90, 52.217.136.202, 54.231.200.10, ...\n",
      "Connecting to gdc-hub.s3.us-east-1.amazonaws.com (gdc-hub.s3.us-east-1.amazonaws.com)|54.231.235.90|:443... connected.\n",
      "HTTP request sent, awaiting response... 200 OK\n",
      "Length: 1425945 (1.4M) [text/tab-separated-values]\n",
      "Saving to: ‘../data/raw/TCGA-GBM.somaticmutation_wxs.tsv.gz’\n",
      "\n",
      "TCGA-GBM.somaticmut 100%[===================>]   1.36M   261KB/s    in 6.8s    \n",
      "\n",
      "2025-01-08 00:18:35 (204 KB/s) - ‘../data/raw/TCGA-GBM.somaticmutation_wxs.tsv.gz’ saved [1425945/1425945]\n",
      "\n"
     ]
    }
   ],
   "source": [
    "# Download somatic mutation (SNPs and small INDELs) data\n",
    "!wget -P {raw_data_folder} {snpindel_download_url}"
   ]
  },
  {
   "cell_type": "code",
   "execution_count": 7,
   "id": "30af809f",
   "metadata": {},
   "outputs": [
    {
     "name": "stdout",
     "output_type": "stream",
     "text": [
      "wget: /opt/ohpc/admin/spack/0.17.0/opt/spack/linux-rocky8-sandybridge/gcc-8.5.0/anaconda3-2021.05-s7wekg6xckaafcmvnnl7izhz7akpnzqd/lib/libuuid.so.1: no version information available (required by wget)\n",
      "--2025-01-08 00:18:35--  https://gdc-hub.s3.us-east-1.amazonaws.com/download/TCGA-GBM.mirna.tsv.gz\n",
      "Resolving gdc-hub.s3.us-east-1.amazonaws.com (gdc-hub.s3.us-east-1.amazonaws.com)... 52.217.121.178, 52.217.197.98, 54.231.200.66, ...\n",
      "Connecting to gdc-hub.s3.us-east-1.amazonaws.com (gdc-hub.s3.us-east-1.amazonaws.com)|52.217.121.178|:443... connected.\n",
      "HTTP request sent, awaiting response... 200 OK\n",
      "Length: 72065 (70K) [text/tab-separated-values]\n",
      "Saving to: ‘../data/raw/TCGA-GBM.mirna.tsv.gz’\n",
      "\n",
      "TCGA-GBM.mirna.tsv. 100%[===================>]  70.38K  46.1KB/s    in 1.5s    \n",
      "\n",
      "2025-01-08 00:18:41 (46.1 KB/s) - ‘../data/raw/TCGA-GBM.mirna.tsv.gz’ saved [72065/72065]\n",
      "\n"
     ]
    }
   ],
   "source": [
    "# Download stem loop expression (miRNA Expression Quantification)\n",
    "!wget -P {raw_data_folder} {mirnaexp_download_url}"
   ]
  },
  {
   "cell_type": "code",
   "execution_count": 8,
   "id": "fbd09d09",
   "metadata": {},
   "outputs": [
    {
     "name": "stdout",
     "output_type": "stream",
     "text": [
      "wget: /opt/ohpc/admin/spack/0.17.0/opt/spack/linux-rocky8-sandybridge/gcc-8.5.0/anaconda3-2021.05-s7wekg6xckaafcmvnnl7izhz7akpnzqd/lib/libuuid.so.1: no version information available (required by wget)\n",
      "--2025-01-08 00:18:41--  https://gdc-hub.s3.us-east-1.amazonaws.com/download/TCGA-GBM.methylation27.tsv.gz\n",
      "Resolving gdc-hub.s3.us-east-1.amazonaws.com (gdc-hub.s3.us-east-1.amazonaws.com)... 16.182.98.146, 54.231.166.74, 52.216.34.18, ...\n",
      "Connecting to gdc-hub.s3.us-east-1.amazonaws.com (gdc-hub.s3.us-east-1.amazonaws.com)|16.182.98.146|:443... connected.\n",
      "HTTP request sent, awaiting response... 200 OK\n",
      "Length: 58116650 (55M) [text/tab-separated-values]\n",
      "Saving to: ‘../data/raw/TCGA-GBM.methylation27.tsv.gz’\n",
      "\n",
      "TCGA-GBM.methylatio 100%[===================>]  55.42M  3.52MB/s    in 24s     \n",
      "\n",
      "2025-01-08 00:19:10 (2.26 MB/s) - ‘../data/raw/TCGA-GBM.methylation27.tsv.gz’ saved [58116650/58116650]\n",
      "\n"
     ]
    }
   ],
   "source": [
    "# Download DNA methylation (Illumina Human Methylation 27) data\n",
    "!wget -P {raw_data_folder} {met27_download_url}"
   ]
  },
  {
   "cell_type": "code",
   "execution_count": 9,
   "id": "bc23da4b",
   "metadata": {},
   "outputs": [
    {
     "name": "stdout",
     "output_type": "stream",
     "text": [
      "wget: /opt/ohpc/admin/spack/0.17.0/opt/spack/linux-rocky8-sandybridge/gcc-8.5.0/anaconda3-2021.05-s7wekg6xckaafcmvnnl7izhz7akpnzqd/lib/libuuid.so.1: no version information available (required by wget)\n",
      "--2025-01-08 00:19:10--  https://gdc-hub.s3.us-east-1.amazonaws.com/download/TCGA-GBM.methylation450.tsv.gz\n",
      "Resolving gdc-hub.s3.us-east-1.amazonaws.com (gdc-hub.s3.us-east-1.amazonaws.com)... 52.217.119.98, 54.231.235.202, 54.231.194.66, ...\n",
      "Connecting to gdc-hub.s3.us-east-1.amazonaws.com (gdc-hub.s3.us-east-1.amazonaws.com)|52.217.119.98|:443... connected.\n",
      "HTTP request sent, awaiting response... 200 OK\n",
      "Length: 526300548 (502M) [text/tab-separated-values]\n",
      "Saving to: ‘../data/raw/TCGA-GBM.methylation450.tsv.gz’\n",
      "\n",
      "TCGA-GBM.methylatio 100%[===================>] 501.92M  4.32MB/s    in 2m 24s  \n",
      "\n",
      "2025-01-08 00:21:39 (3.47 MB/s) - ‘../data/raw/TCGA-GBM.methylation450.tsv.gz’ saved [526300548/526300548]\n",
      "\n"
     ]
    }
   ],
   "source": [
    "# Download DNA methylation (Illumina Human Methylation 450) data\n",
    "!wget -P {raw_data_folder} {met450_download_url}"
   ]
  },
  {
   "cell_type": "code",
   "execution_count": 10,
   "id": "8727501d",
   "metadata": {},
   "outputs": [
    {
     "name": "stdout",
     "output_type": "stream",
     "text": [
      "wget: /opt/ohpc/admin/spack/0.17.0/opt/spack/linux-rocky8-sandybridge/gcc-8.5.0/anaconda3-2021.05-s7wekg6xckaafcmvnnl7izhz7akpnzqd/lib/libuuid.so.1: no version information available (required by wget)\n",
      "--2025-01-08 00:21:39--  https://gdc-hub.s3.us-east-1.amazonaws.com/download/TCGA-GBM.survival.tsv.gz\n",
      "Resolving gdc-hub.s3.us-east-1.amazonaws.com (gdc-hub.s3.us-east-1.amazonaws.com)... 54.231.170.226, 3.5.12.30, 52.217.136.130, ...\n",
      "Connecting to gdc-hub.s3.us-east-1.amazonaws.com (gdc-hub.s3.us-east-1.amazonaws.com)|54.231.170.226|:443... connected.\n",
      "HTTP request sent, awaiting response... 200 OK\n",
      "Length: 5366 (5.2K) [text/tab-separated-values]\n",
      "Saving to: ‘../data/raw/TCGA-GBM.survival.tsv.gz’\n",
      "\n",
      "TCGA-GBM.survival.t 100%[===================>]   5.24K  --.-KB/s    in 0s      \n",
      "\n",
      "2025-01-08 00:21:44 (151 MB/s) - ‘../data/raw/TCGA-GBM.survival.tsv.gz’ saved [5366/5366]\n",
      "\n"
     ]
    }
   ],
   "source": [
    "# Download survival data\n",
    "!wget -P {raw_data_folder} {surv_download_url}"
   ]
  },
  {
   "cell_type": "code",
   "execution_count": 11,
   "id": "84edc975",
   "metadata": {},
   "outputs": [
    {
     "name": "stdout",
     "output_type": "stream",
     "text": [
      "wget: /opt/ohpc/admin/spack/0.17.0/opt/spack/linux-rocky8-sandybridge/gcc-8.5.0/anaconda3-2021.05-s7wekg6xckaafcmvnnl7izhz7akpnzqd/lib/libuuid.so.1: no version information available (required by wget)\n",
      "--2025-01-08 00:21:44--  https://gdc-hub.s3.us-east-1.amazonaws.com/download/TCGA-GBM.clinical.tsv.gz\n",
      "Resolving gdc-hub.s3.us-east-1.amazonaws.com (gdc-hub.s3.us-east-1.amazonaws.com)... 52.217.33.216, 52.217.136.130, 16.15.177.150, ...\n",
      "Connecting to gdc-hub.s3.us-east-1.amazonaws.com (gdc-hub.s3.us-east-1.amazonaws.com)|52.217.33.216|:443... connected.\n",
      "HTTP request sent, awaiting response... 200 OK\n",
      "Length: 148485 (145K) [text/tab-separated-values]\n",
      "Saving to: ‘../data/raw/TCGA-GBM.clinical.tsv.gz’\n",
      "\n",
      "TCGA-GBM.clinical.t 100%[===================>] 145.00K  49.9KB/s    in 2.9s    \n",
      "\n",
      "2025-01-08 00:21:51 (49.9 KB/s) - ‘../data/raw/TCGA-GBM.clinical.tsv.gz’ saved [148485/148485]\n",
      "\n"
     ]
    }
   ],
   "source": [
    "# Download phenotype data\n",
    "!wget -P {raw_data_folder} {phen_download_url}"
   ]
  }
 ],
 "metadata": {
  "kernelspec": {
   "display_name": "Python (mysurvival)",
   "language": "python",
   "name": "mysurvival"
  },
  "language_info": {
   "codemirror_mode": {
    "name": "ipython",
    "version": 3
   },
   "file_extension": ".py",
   "mimetype": "text/x-python",
   "name": "python",
   "nbconvert_exporter": "python",
   "pygments_lexer": "ipython3",
   "version": "3.13.1"
  }
 },
 "nbformat": 4,
 "nbformat_minor": 5
}
