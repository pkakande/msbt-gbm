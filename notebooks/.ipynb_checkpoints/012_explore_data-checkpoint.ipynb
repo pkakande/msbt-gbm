{
 "cells": [
  {
   "cell_type": "code",
   "execution_count": 1,
   "id": "841d9e63",
   "metadata": {},
   "outputs": [],
   "source": [
    "import pandas as pd"
   ]
  },
  {
   "cell_type": "code",
   "execution_count": 2,
   "id": "fe158fb0",
   "metadata": {},
   "outputs": [],
   "source": [
    "raw_data_folder = \"../data/raw/\""
   ]
  },
  {
   "cell_type": "code",
   "execution_count": 3,
   "id": "04cefb26",
   "metadata": {},
   "outputs": [],
   "source": [
    "# download paths\n",
    "genexp_data_file = \"TCGA-GBM.star_tpm.tsv.gz\"\n",
    "protexp_data_file = \"TCGA-GBM.protein.tsv.gz\"\n",
    "cnv_data_file = \"TCGA-GBM.gene-level_absolute.tsv.gz\"\n",
    "snpindel_data_file = \"TCGA-GBM.somaticmutation_wxs.tsv.gz\"\n",
    "met27_data_file = \"TCGA-GBM.methylation27.tsv.gz\"\n",
    "met450_data_file = \"TCGA-GBM.methylation450.tsv.gz\"\n",
    "mirnaexp_data_file = \"TCGA-GBM.mirna.tsv.gz\"\n",
    "surv_data_file = \"TCGA-GBM.survival.tsv.gz\"\n",
    "phen_data_file = \"TCGA-GBM.clinical.tsv.gz\""
   ]
  },
  {
   "cell_type": "code",
   "execution_count": 4,
   "id": "24bf34a0",
   "metadata": {},
   "outputs": [],
   "source": [
    "# Gene Expression data\n",
    "genexp_data = pd.read_csv(f\"{raw_data_folder}/{genexp_data_file}\", \n",
    "                         compression = 'gzip', delimiter = '\\t')\n",
    "\n",
    "# Protein Expression data\n",
    "protexp_data = pd.read_csv(f\"{raw_data_folder}/{protexp_data_file}\", \n",
    "                         compression = 'gzip', delimiter = '\\t')\n",
    "\n",
    "cnv_data = pd.read_csv(f\"{raw_data_folder}/{cnv_data_file}\", \n",
    "                         compression = 'gzip', delimiter = '\\t')\n",
    "\n",
    "snpindel_data = pd.read_csv(f\"{raw_data_folder}/{snpindel_data_file}\", \n",
    "                         compression = 'gzip', delimiter = '\\t')\n",
    "\n",
    "met27_data = pd.read_csv(f\"{raw_data_folder}/{met27_data_file}\", \n",
    "                         compression = 'gzip', delimiter = '\\t')\n",
    "\n",
    "met450_data = pd.read_csv(f\"{raw_data_folder}/{met450_data_file}\", \n",
    "                         compression = 'gzip', delimiter = '\\t')\n",
    "\n",
    "mirnaexp_data = pd.read_csv(f\"{raw_data_folder}/{mirnaexp_data_file}\", \n",
    "                         compression = 'gzip', delimiter = '\\t')\n",
    "\n",
    "surv_data = pd.read_csv(f\"{raw_data_folder}/{surv_data_file}\", \n",
    "                         compression = 'gzip', delimiter = '\\t')\n",
    "\n",
    "phen_data = pd.read_csv(f\"{raw_data_folder}/{phen_data_file}\", \n",
    "                         compression = 'gzip', delimiter = '\\t')"
   ]
  },
  {
   "cell_type": "code",
   "execution_count": 5,
   "id": "d841743b",
   "metadata": {},
   "outputs": [
    {
     "data": {
      "text/plain": [
       "(Index(['Ensembl_ID', 'TCGA-27-2521-01A', 'TCGA-19-1390-01A',\n",
       "        'TCGA-27-1830-01A', 'TCGA-32-1970-01A', 'TCGA-06-0190-01A',\n",
       "        'TCGA-06-0190-02A', 'TCGA-02-2486-01A', 'TCGA-14-0790-01B',\n",
       "        'TCGA-14-0789-01A',\n",
       "        ...\n",
       "        'TCGA-27-2519-01A', 'TCGA-26-5134-01A', 'TCGA-06-0675-11A',\n",
       "        'TCGA-06-1804-01A', 'TCGA-14-1829-01A', 'TCGA-06-0184-01A',\n",
       "        'TCGA-32-2638-01A', 'TCGA-12-3652-01A', 'TCGA-28-5209-01A',\n",
       "        'TCGA-76-4925-01A'],\n",
       "       dtype='object', length=176),\n",
       " (60660, 176))"
      ]
     },
     "execution_count": 5,
     "metadata": {},
     "output_type": "execute_result"
    }
   ],
   "source": [
    "genexp_data.columns, genexp_data.shape"
   ]
  },
  {
   "cell_type": "code",
   "execution_count": 6,
   "id": "13aa2177",
   "metadata": {},
   "outputs": [
    {
     "data": {
      "text/plain": [
       "(Index(['peptide_target', 'TCGA-06-0130-01A', 'TCGA-15-1449-01A',\n",
       "        'TCGA-06-0189-01A', 'TCGA-06-0125-02A', 'TCGA-06-0125-01A',\n",
       "        'TCGA-06-2557-01A', 'TCGA-06-6700-01A', 'TCGA-26-5132-01A',\n",
       "        'TCGA-06-1804-01A',\n",
       "        ...\n",
       "        'TCGA-19-1790-01B', 'TCGA-06-5408-01A', 'TCGA-28-2501-01A',\n",
       "        'TCGA-19-A6J4-01A', 'TCGA-19-4068-01A', 'TCGA-27-1833-01A',\n",
       "        'TCGA-06-5856-01A', 'TCGA-4W-AA9R-01A', 'TCGA-06-0155-01B',\n",
       "        'TCGA-19-1386-01A'],\n",
       "       dtype='object', length=244),\n",
       " (487, 244))"
      ]
     },
     "execution_count": 6,
     "metadata": {},
     "output_type": "execute_result"
    }
   ],
   "source": [
    "protexp_data.columns, protexp_data.shape"
   ]
  },
  {
   "cell_type": "code",
   "execution_count": 7,
   "id": "7776e3ff",
   "metadata": {},
   "outputs": [
    {
     "data": {
      "text/plain": [
       "(0      TCGA-12-0657-01A\n",
       " 1      TCGA-32-1977-01A\n",
       " 2      TCGA-19-1791-01A\n",
       " 3      TCGA-28-1757-01A\n",
       " 4      TCGA-19-2624-01A\n",
       "              ...       \n",
       " 613    TCGA-12-0656-01B\n",
       " 614    TCGA-02-0114-01A\n",
       " 615    TCGA-08-0344-01A\n",
       " 616    TCGA-06-6693-01A\n",
       " 617    TCGA-12-1088-01A\n",
       " Name: sample, Length: 618, dtype: object,\n",
       " (618, 4))"
      ]
     },
     "execution_count": 7,
     "metadata": {},
     "output_type": "execute_result"
    }
   ],
   "source": [
    "surv_data['sample'], surv_data.shape"
   ]
  },
  {
   "cell_type": "code",
   "execution_count": 8,
   "id": "4fc0d88c",
   "metadata": {},
   "outputs": [
    {
     "data": {
      "text/plain": [
       "(Index(['Composite Element REF', 'TCGA-76-6192-01A', 'TCGA-28-2510-01A',\n",
       "        'TCGA-76-4931-01A', 'TCGA-06-0190-02A', 'TCGA-76-6656-01A',\n",
       "        'TCGA-06-0190-01A', 'TCGA-06-6388-01A', 'TCGA-4W-AA9S-01A',\n",
       "        'TCGA-19-5958-01A',\n",
       "        ...\n",
       "        'TCGA-06-0221-02A', 'TCGA-19-5954-01A', 'TCGA-81-5911-01A',\n",
       "        'TCGA-06-A7TL-01A', 'TCGA-28-5209-01A', 'TCGA-06-0221-01A',\n",
       "        'TCGA-06-6701-01A', 'TCGA-76-6661-01B', 'TCGA-12-5301-01A',\n",
       "        'TCGA-76-4925-01A'],\n",
       "       dtype='object', length=156),\n",
       " (486427, 156))"
      ]
     },
     "execution_count": 8,
     "metadata": {},
     "output_type": "execute_result"
    }
   ],
   "source": [
    "met450_data.columns, met450_data.shape"
   ]
  },
  {
   "cell_type": "code",
   "execution_count": 9,
   "id": "bab751c1",
   "metadata": {},
   "outputs": [
    {
     "data": {
      "text/plain": [
       "(Index(['miRNA_ID', 'TCGA-06-0681-11A', 'TCGA-06-5413-01A', 'TCGA-06-0678-11A',\n",
       "        'TCGA-19-5951-01A', 'TCGA-06-6699-01A', 'TCGA-14-1395-01B',\n",
       "        'TCGA-06-5408-01A', 'TCGA-06-0680-11A', 'TCGA-06-AABW-11A',\n",
       "        'TCGA-28-5208-01A', 'TCGA-32-4209-01A', 'TCGA-26-6174-01A',\n",
       "        'TCGA-06-0675-11A'],\n",
       "       dtype='object'),\n",
       " (1881, 14))"
      ]
     },
     "execution_count": 9,
     "metadata": {},
     "output_type": "execute_result"
    }
   ],
   "source": [
    "mirnaexp_data.columns, mirnaexp_data.shape"
   ]
  },
  {
   "cell_type": "code",
   "execution_count": 10,
   "id": "f6f274a7",
   "metadata": {},
   "outputs": [],
   "source": [
    "def findCommonPatients(genes,methylation,mirna,clinical):\n",
    "    \n",
    "    colNamesGenes=[]\n",
    "    for i in genes.columns:\n",
    "        colNamesGenes.append(i)\n",
    "\n",
    "    colNamesMethy=[]\n",
    "    for i in methylation.columns:\n",
    "        colNamesMethy.append(i)\n",
    "\n",
    "    colNamesmirna=[]\n",
    "    for i in mirna.columns:\n",
    "        colNamesmirna.append(i)\n",
    "\n",
    "        \n",
    "    clinicalIDs=[]\n",
    "    for i in clinical['sample']:\n",
    "        clinicalIDs.append(i)\n",
    "        \n",
    "    elements_in_all = list(set.intersection(*map(set, [colNamesGenes, colNamesMethy, colNamesmirna,clinicalIDs])))\n",
    "    elements_in_all.sort()\n",
    "    \n",
    "    \n",
    "    return elements_in_all"
   ]
  },
  {
   "cell_type": "code",
   "execution_count": 11,
   "id": "2247834c",
   "metadata": {},
   "outputs": [
    {
     "data": {
      "text/plain": [
       "['TCGA-06-5408-01A', 'TCGA-06-5413-01A', 'TCGA-28-5208-01A']"
      ]
     },
     "execution_count": 11,
     "metadata": {},
     "output_type": "execute_result"
    }
   ],
   "source": [
    "findCommonPatients(genexp_data, met450_data, mirnaexp_data, surv_data)"
   ]
  },
  {
   "cell_type": "code",
   "execution_count": 12,
   "id": "e1714c2f",
   "metadata": {},
   "outputs": [
    {
     "data": {
      "text/html": [
       "<div>\n",
       "<style scoped>\n",
       "    .dataframe tbody tr th:only-of-type {\n",
       "        vertical-align: middle;\n",
       "    }\n",
       "\n",
       "    .dataframe tbody tr th {\n",
       "        vertical-align: top;\n",
       "    }\n",
       "\n",
       "    .dataframe thead th {\n",
       "        text-align: right;\n",
       "    }\n",
       "</style>\n",
       "<table border=\"1\" class=\"dataframe\">\n",
       "  <thead>\n",
       "    <tr style=\"text-align: right;\">\n",
       "      <th></th>\n",
       "      <th>miRNA_ID</th>\n",
       "      <th>TCGA-06-0681-11A</th>\n",
       "      <th>TCGA-06-5413-01A</th>\n",
       "      <th>TCGA-06-0678-11A</th>\n",
       "      <th>TCGA-19-5951-01A</th>\n",
       "      <th>TCGA-06-6699-01A</th>\n",
       "      <th>TCGA-14-1395-01B</th>\n",
       "      <th>TCGA-06-5408-01A</th>\n",
       "      <th>TCGA-06-0680-11A</th>\n",
       "      <th>TCGA-06-AABW-11A</th>\n",
       "      <th>TCGA-28-5208-01A</th>\n",
       "      <th>TCGA-32-4209-01A</th>\n",
       "      <th>TCGA-26-6174-01A</th>\n",
       "      <th>TCGA-06-0675-11A</th>\n",
       "    </tr>\n",
       "  </thead>\n",
       "  <tbody>\n",
       "    <tr>\n",
       "      <th>0</th>\n",
       "      <td>hsa-let-7a-1</td>\n",
       "      <td>13.725388</td>\n",
       "      <td>14.351219</td>\n",
       "      <td>14.171434</td>\n",
       "      <td>15.065809</td>\n",
       "      <td>15.116815</td>\n",
       "      <td>14.954280</td>\n",
       "      <td>14.269791</td>\n",
       "      <td>13.986317</td>\n",
       "      <td>13.923648</td>\n",
       "      <td>14.316919</td>\n",
       "      <td>14.315266</td>\n",
       "      <td>14.841027</td>\n",
       "      <td>13.231578</td>\n",
       "    </tr>\n",
       "    <tr>\n",
       "      <th>1</th>\n",
       "      <td>hsa-let-7a-2</td>\n",
       "      <td>13.721260</td>\n",
       "      <td>14.285737</td>\n",
       "      <td>14.170644</td>\n",
       "      <td>15.005136</td>\n",
       "      <td>15.052963</td>\n",
       "      <td>14.894577</td>\n",
       "      <td>14.209496</td>\n",
       "      <td>13.976117</td>\n",
       "      <td>13.937565</td>\n",
       "      <td>14.255819</td>\n",
       "      <td>14.249933</td>\n",
       "      <td>14.770005</td>\n",
       "      <td>13.236303</td>\n",
       "    </tr>\n",
       "    <tr>\n",
       "      <th>2</th>\n",
       "      <td>hsa-let-7a-3</td>\n",
       "      <td>13.739050</td>\n",
       "      <td>14.284608</td>\n",
       "      <td>14.187757</td>\n",
       "      <td>15.004936</td>\n",
       "      <td>15.053325</td>\n",
       "      <td>14.904625</td>\n",
       "      <td>14.213474</td>\n",
       "      <td>13.983518</td>\n",
       "      <td>13.963689</td>\n",
       "      <td>14.262807</td>\n",
       "      <td>14.249634</td>\n",
       "      <td>14.781162</td>\n",
       "      <td>13.237364</td>\n",
       "    </tr>\n",
       "    <tr>\n",
       "      <th>3</th>\n",
       "      <td>hsa-let-7b</td>\n",
       "      <td>13.438181</td>\n",
       "      <td>12.503677</td>\n",
       "      <td>13.755743</td>\n",
       "      <td>14.294261</td>\n",
       "      <td>14.627826</td>\n",
       "      <td>13.993420</td>\n",
       "      <td>12.572030</td>\n",
       "      <td>13.429677</td>\n",
       "      <td>14.839227</td>\n",
       "      <td>12.254121</td>\n",
       "      <td>12.525738</td>\n",
       "      <td>13.700069</td>\n",
       "      <td>13.357428</td>\n",
       "    </tr>\n",
       "    <tr>\n",
       "      <th>4</th>\n",
       "      <td>hsa-let-7c</td>\n",
       "      <td>13.138233</td>\n",
       "      <td>14.191816</td>\n",
       "      <td>13.528913</td>\n",
       "      <td>14.594487</td>\n",
       "      <td>13.745075</td>\n",
       "      <td>13.496102</td>\n",
       "      <td>13.991191</td>\n",
       "      <td>13.708842</td>\n",
       "      <td>12.824964</td>\n",
       "      <td>13.761894</td>\n",
       "      <td>13.266520</td>\n",
       "      <td>13.826872</td>\n",
       "      <td>13.490684</td>\n",
       "    </tr>\n",
       "  </tbody>\n",
       "</table>\n",
       "</div>"
      ],
      "text/plain": [
       "       miRNA_ID  TCGA-06-0681-11A  TCGA-06-5413-01A  TCGA-06-0678-11A  \\\n",
       "0  hsa-let-7a-1         13.725388         14.351219         14.171434   \n",
       "1  hsa-let-7a-2         13.721260         14.285737         14.170644   \n",
       "2  hsa-let-7a-3         13.739050         14.284608         14.187757   \n",
       "3    hsa-let-7b         13.438181         12.503677         13.755743   \n",
       "4    hsa-let-7c         13.138233         14.191816         13.528913   \n",
       "\n",
       "   TCGA-19-5951-01A  TCGA-06-6699-01A  TCGA-14-1395-01B  TCGA-06-5408-01A  \\\n",
       "0         15.065809         15.116815         14.954280         14.269791   \n",
       "1         15.005136         15.052963         14.894577         14.209496   \n",
       "2         15.004936         15.053325         14.904625         14.213474   \n",
       "3         14.294261         14.627826         13.993420         12.572030   \n",
       "4         14.594487         13.745075         13.496102         13.991191   \n",
       "\n",
       "   TCGA-06-0680-11A  TCGA-06-AABW-11A  TCGA-28-5208-01A  TCGA-32-4209-01A  \\\n",
       "0         13.986317         13.923648         14.316919         14.315266   \n",
       "1         13.976117         13.937565         14.255819         14.249933   \n",
       "2         13.983518         13.963689         14.262807         14.249634   \n",
       "3         13.429677         14.839227         12.254121         12.525738   \n",
       "4         13.708842         12.824964         13.761894         13.266520   \n",
       "\n",
       "   TCGA-26-6174-01A  TCGA-06-0675-11A  \n",
       "0         14.841027         13.231578  \n",
       "1         14.770005         13.236303  \n",
       "2         14.781162         13.237364  \n",
       "3         13.700069         13.357428  \n",
       "4         13.826872         13.490684  "
      ]
     },
     "execution_count": 12,
     "metadata": {},
     "output_type": "execute_result"
    }
   ],
   "source": [
    "mirnaexp_data.head()"
   ]
  },
  {
   "cell_type": "markdown",
   "id": "dbab0942",
   "metadata": {},
   "source": [
    "### All Open GBM Data - GDC"
   ]
  },
  {
   "cell_type": "code",
   "execution_count": 39,
   "id": "21987a03",
   "metadata": {},
   "outputs": [],
   "source": [
    "data = pd.read_csv(\"../all_open_gbm.csv\")"
   ]
  },
  {
   "cell_type": "code",
   "execution_count": 40,
   "id": "a39d7bfe",
   "metadata": {},
   "outputs": [
    {
     "data": {
      "text/html": [
       "<div>\n",
       "<style scoped>\n",
       "    .dataframe tbody tr th:only-of-type {\n",
       "        vertical-align: middle;\n",
       "    }\n",
       "\n",
       "    .dataframe tbody tr th {\n",
       "        vertical-align: top;\n",
       "    }\n",
       "\n",
       "    .dataframe thead th {\n",
       "        text-align: right;\n",
       "    }\n",
       "</style>\n",
       "<table border=\"1\" class=\"dataframe\">\n",
       "  <thead>\n",
       "    <tr style=\"text-align: right;\">\n",
       "      <th></th>\n",
       "      <th>id</th>\n",
       "      <th>file_name</th>\n",
       "      <th>file_id</th>\n",
       "      <th>data_type</th>\n",
       "      <th>file_size</th>\n",
       "    </tr>\n",
       "  </thead>\n",
       "  <tbody>\n",
       "    <tr>\n",
       "      <th>0</th>\n",
       "      <td>468996e4-58e0-4088-8103-4f41a8bd85d4</td>\n",
       "      <td>TCGA-06-0124.5BA4F4A0-E68C-4BAD-88BC-8DD9F399A...</td>\n",
       "      <td>468996e4-58e0-4088-8103-4f41a8bd85d4</td>\n",
       "      <td>Pathology Report</td>\n",
       "      <td>24859</td>\n",
       "    </tr>\n",
       "    <tr>\n",
       "      <th>1</th>\n",
       "      <td>86573015-22a6-482d-97b0-dc07f961651e</td>\n",
       "      <td>TCGA-GBM.1320140b-2dfe-42f6-b369-0a5725bd6492....</td>\n",
       "      <td>86573015-22a6-482d-97b0-dc07f961651e</td>\n",
       "      <td>Gene Level Copy Number</td>\n",
       "      <td>3445562</td>\n",
       "    </tr>\n",
       "    <tr>\n",
       "      <th>2</th>\n",
       "      <td>5fee464d-d957-4b98-ad0e-3eb1bd791fa5</td>\n",
       "      <td>TCGA-GBM.5402f832-b7d3-4a86-9626-2a0fcf5b173f....</td>\n",
       "      <td>5fee464d-d957-4b98-ad0e-3eb1bd791fa5</td>\n",
       "      <td>Allele-specific Copy Number Segment</td>\n",
       "      <td>10375</td>\n",
       "    </tr>\n",
       "    <tr>\n",
       "      <th>3</th>\n",
       "      <td>3b7d387a-7854-449f-832b-0054985518d4</td>\n",
       "      <td>TCGA-14-3476-01B-01-TS1.5bad3783-e461-4c14-aab...</td>\n",
       "      <td>3b7d387a-7854-449f-832b-0054985518d4</td>\n",
       "      <td>Slide Image</td>\n",
       "      <td>155312257</td>\n",
       "    </tr>\n",
       "    <tr>\n",
       "      <th>4</th>\n",
       "      <td>0e52548c-2ac3-471f-83be-bb6b3cc2c162</td>\n",
       "      <td>nationwidechildrens.org_clinical.TCGA-14-3476.xml</td>\n",
       "      <td>0e52548c-2ac3-471f-83be-bb6b3cc2c162</td>\n",
       "      <td>Clinical Supplement</td>\n",
       "      <td>25127</td>\n",
       "    </tr>\n",
       "  </tbody>\n",
       "</table>\n",
       "</div>"
      ],
      "text/plain": [
       "                                     id  \\\n",
       "0  468996e4-58e0-4088-8103-4f41a8bd85d4   \n",
       "1  86573015-22a6-482d-97b0-dc07f961651e   \n",
       "2  5fee464d-d957-4b98-ad0e-3eb1bd791fa5   \n",
       "3  3b7d387a-7854-449f-832b-0054985518d4   \n",
       "4  0e52548c-2ac3-471f-83be-bb6b3cc2c162   \n",
       "\n",
       "                                           file_name  \\\n",
       "0  TCGA-06-0124.5BA4F4A0-E68C-4BAD-88BC-8DD9F399A...   \n",
       "1  TCGA-GBM.1320140b-2dfe-42f6-b369-0a5725bd6492....   \n",
       "2  TCGA-GBM.5402f832-b7d3-4a86-9626-2a0fcf5b173f....   \n",
       "3  TCGA-14-3476-01B-01-TS1.5bad3783-e461-4c14-aab...   \n",
       "4  nationwidechildrens.org_clinical.TCGA-14-3476.xml   \n",
       "\n",
       "                                file_id                            data_type  \\\n",
       "0  468996e4-58e0-4088-8103-4f41a8bd85d4                     Pathology Report   \n",
       "1  86573015-22a6-482d-97b0-dc07f961651e               Gene Level Copy Number   \n",
       "2  5fee464d-d957-4b98-ad0e-3eb1bd791fa5  Allele-specific Copy Number Segment   \n",
       "3  3b7d387a-7854-449f-832b-0054985518d4                          Slide Image   \n",
       "4  0e52548c-2ac3-471f-83be-bb6b3cc2c162                  Clinical Supplement   \n",
       "\n",
       "   file_size  \n",
       "0      24859  \n",
       "1    3445562  \n",
       "2      10375  \n",
       "3  155312257  \n",
       "4      25127  "
      ]
     },
     "execution_count": 40,
     "metadata": {},
     "output_type": "execute_result"
    }
   ],
   "source": [
    "data.head()"
   ]
  },
  {
   "cell_type": "code",
   "execution_count": 41,
   "id": "aaff004d",
   "metadata": {},
   "outputs": [],
   "source": [
    "unique_counts = data.nunique()"
   ]
  },
  {
   "cell_type": "code",
   "execution_count": 42,
   "id": "e73954ce",
   "metadata": {},
   "outputs": [
    {
     "data": {
      "text/plain": [
       "id           10000\n",
       "file_name    10000\n",
       "file_id      10000\n",
       "data_type       16\n",
       "file_size     7997\n",
       "dtype: int64"
      ]
     },
     "execution_count": 42,
     "metadata": {},
     "output_type": "execute_result"
    }
   ],
   "source": [
    "unique_counts"
   ]
  },
  {
   "cell_type": "code",
   "execution_count": 43,
   "id": "517311ba",
   "metadata": {},
   "outputs": [
    {
     "data": {
      "text/plain": [
       "(10000, 5)"
      ]
     },
     "execution_count": 43,
     "metadata": {},
     "output_type": "execute_result"
    }
   ],
   "source": [
    "data.shape"
   ]
  },
  {
   "cell_type": "code",
   "execution_count": 44,
   "id": "f8988e62",
   "metadata": {},
   "outputs": [
    {
     "data": {
      "text/plain": [
       "Index(['id', 'file_name', 'file_id', 'data_type', 'file_size'], dtype='object')"
      ]
     },
     "execution_count": 44,
     "metadata": {},
     "output_type": "execute_result"
    }
   ],
   "source": [
    "data.columns"
   ]
  }
 ],
 "metadata": {
  "kernelspec": {
   "display_name": "Python (mysurvival)",
   "language": "python",
   "name": "mysurvival"
  },
  "language_info": {
   "codemirror_mode": {
    "name": "ipython",
    "version": 3
   },
   "file_extension": ".py",
   "mimetype": "text/x-python",
   "name": "python",
   "nbconvert_exporter": "python",
   "pygments_lexer": "ipython3",
   "version": "3.13.1"
  }
 },
 "nbformat": 4,
 "nbformat_minor": 5
}
