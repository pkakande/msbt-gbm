{
 "cells": [
  {
   "cell_type": "code",
   "execution_count": 1,
   "id": "7512f593-9116-4551-a5c5-5947ca29d0d0",
   "metadata": {},
   "outputs": [
    {
     "name": "stdout",
     "output_type": "stream",
     "text": [
      "Failed to fetch data: 404\n",
      "No interactions found.\n"
     ]
    }
   ],
   "source": [
    "import requests\n",
    "import pandas as pd\n",
    "\n",
    "# Define parameters\n",
    "organism = '9606'  # NCBI taxonomy ID for Homo sapiens (human)\n",
    "query = 'Glioblastoma Multiforme'  # Query for GBM-related genes\n",
    "string_api_url = 'https://string-db.org/api'\n",
    "\n",
    "# Function to fetch interactions from STRING\n",
    "def fetch_string_interactions(query, organism):\n",
    "    url = f\"{string_api_url}/tsv/network?identifiers={query}&species={organism}\"\n",
    "    response = requests.get(url)\n",
    "    if response.status_code == 200:\n",
    "        return response.text\n",
    "    else:\n",
    "        print(f\"Failed to fetch data: {response.status_code}\")\n",
    "        return None\n",
    "\n",
    "# Function to extract unique genes from interactions\n",
    "def extract_genes(interactions):\n",
    "    df = pd.read_csv(pd.compat.StringIO(interactions), sep='\\t')\n",
    "    genes = set(df['preferredName_A']).union(set(df['preferredName_B']))\n",
    "    return genes\n",
    "\n",
    "# Fetch interactions\n",
    "interactions = fetch_string_interactions(query, organism)\n",
    "if interactions:\n",
    "    genes = extract_genes(interactions)\n",
    "\n",
    "    # Save the gene list to a text file\n",
    "    with open('network_genes.txt', 'w') as f:\n",
    "        for gene in genes:\n",
    "            f.write(f\"{gene}\\n\")\n",
    "    \n",
    "    print(\"Gene list saved to 'network_genes.txt'\")\n",
    "else:\n",
    "    print(\"No interactions found.\")\n"
   ]
  },
  {
   "cell_type": "code",
   "execution_count": null,
   "id": "1a0e3bed-04fa-451e-93e4-59831c175950",
   "metadata": {},
   "outputs": [],
   "source": []
  },
  {
   "cell_type": "code",
   "execution_count": null,
   "id": "0168074f-17c8-4984-bff0-84fdb1bf0f6d",
   "metadata": {},
   "outputs": [],
   "source": []
  }
 ],
 "metadata": {
  "kernelspec": {
   "display_name": "Python (research)",
   "language": "python",
   "name": "research"
  },
  "language_info": {
   "codemirror_mode": {
    "name": "ipython",
    "version": 3
   },
   "file_extension": ".py",
   "mimetype": "text/x-python",
   "name": "python",
   "nbconvert_exporter": "python",
   "pygments_lexer": "ipython3",
   "version": "3.9.21"
  }
 },
 "nbformat": 4,
 "nbformat_minor": 5
}
