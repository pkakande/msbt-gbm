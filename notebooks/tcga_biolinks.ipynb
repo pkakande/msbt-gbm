{
 "cells": [
  {
   "cell_type": "code",
   "execution_count": 1,
   "id": "77a83480-01ac-4e86-a9d9-2e37d65eb63a",
   "metadata": {},
   "outputs": [],
   "source": [
    "#install.packages(\"BiocManager\")"
   ]
  },
  {
   "cell_type": "code",
   "execution_count": 2,
   "id": "e55b0836-1496-4dfb-98aa-ce0c5de10070",
   "metadata": {},
   "outputs": [],
   "source": [
    "#install.packages(\"png\")\n",
    "#install.packages(\"RCurl\")\n",
    "#install.packages(\"XVector\")\n",
    "#install.packages(\"XML\")\n",
    "#install.packages(\"SparseArray\")\n",
    "#install.packages(\"GenomeInfoDb\")\n",
    "#install.packages(\"Biostrings\")\n",
    "#install.packages(\"DelayedArray\")\n",
    "#install.packages(\"GenomicRanges\")\n",
    "#install.packages(\"KEGGREST\")\n",
    "#install.packages(\"SummarizedExperiment\")\n",
    "#install.packages(\"AnnotationDbi\")\n",
    "#install.packages(\"biomaRt\")"
   ]
  },
  {
   "cell_type": "code",
   "execution_count": 3,
   "id": "9ffea73d-5b84-4dc2-8068-08d2d54d7c80",
   "metadata": {},
   "outputs": [],
   "source": [
    "# Install CRAN packages\n",
    "#install.packages(\"png\")\n",
    "#install.packages(\"RCurl\")\n",
    "#install.packages(\"XVector\")\n",
    "#install.packages(\"XML\")\n",
    "#install.packages(\"SparseArray\")\n",
    "#install.packages(\"GenomeInfoDb\")\n",
    "#install.packages(\"Biostrings\")\n",
    "#install.packages(\"DelayedArray\")\n",
    "#install.packages(\"GenomicRanges\")\n",
    "#install.packages(\"KEGGREST\")\n",
    "#install.packages(\"SummarizedExperiment\")\n",
    "#install.packages(\"AnnotationDbi\")\n",
    "#install.packages(\"biomaRt\")\n",
    "\n",
    "# Install Bioconductor packages\n",
    "#if (!requireNamespace(\"BiocManager\", quietly = TRUE))\n",
    "#    install.packages(\"BiocManager\")\n",
    "#BiocManager::install(\"Biostrings\")\n",
    "#BiocManager::install(\"KEGGREST\")\n",
    "#BiocManager::install(\"AnnotationDbi\")\n",
    "#BiocManager::install(\"GenomeInfoDb\")\n",
    "#BiocManager::install(\"XVector\")\n",
    "#BiocManager::install(\"DelayedArray\")\n",
    "#BiocManager::install(\"biomaRt\")\n",
    "#BiocManager::install(\"GenomicRanges\")\n",
    "#BiocManager::install(\"SummarizedExperiment\")\n",
    "#BiocManager::install(\"GenomicRanges\")\n",
    "#BiocManager::install(\"KEGGREST\")\n",
    "#BiocManager::install(\"SummarizedExperiment\")\n",
    "#BiocManager::install(\"AnnotationDbi\")\n",
    "#BiocManager::install(\"biomaRt\")"
   ]
  },
  {
   "cell_type": "code",
   "execution_count": 4,
   "id": "860f29b6-ac15-4c4f-861e-32a454688846",
   "metadata": {},
   "outputs": [],
   "source": [
    "#BiocManager::install(\"TCGAbiolinks\")"
   ]
  },
  {
   "cell_type": "code",
   "execution_count": 1,
   "id": "fd6dc375-20f3-41ef-b831-bb9f748ade10",
   "metadata": {},
   "outputs": [
    {
     "ename": "ERROR",
     "evalue": "Error in library(TCGAbiolinks): there is no package called ‘TCGAbiolinks’\n",
     "output_type": "error",
     "traceback": [
      "Error in library(TCGAbiolinks): there is no package called ‘TCGAbiolinks’\nTraceback:\n",
      "1. stop(packageNotFoundError(package, lib.loc, sys.call()))"
     ]
    }
   ],
   "source": [
    "library(TCGAbiolinks)"
   ]
  },
  {
   "cell_type": "code",
   "execution_count": null,
   "id": "7970fd7e-dedf-455d-84e2-5b0aecc6eb57",
   "metadata": {},
   "outputs": [],
   "source": [
    "# Query the GDC database for GBM raw counts data\n",
    "query <- GDCquery(\n",
    "    project = \"TCGA-GBM\",\n",
    "    data.category = \"Transcriptome Profiling\",\n",
    "    data.type = \"Gene Expression Quantification\",\n",
    "    workflow.type = \"HTSeq - Counts\"\n",
    ")\n",
    "\n",
    "# Download the data\n",
    "GDCdownload(query)\n",
    "\n",
    "# Prepare the data\n",
    "data <- GDCprepare(query)\n",
    "\n",
    "# View the first few rows of the data\n",
    "head(data)\n"
   ]
  },
  {
   "cell_type": "markdown",
   "id": "548889ab-2e0a-40c7-8bde-fe7c47e55b61",
   "metadata": {},
   "source": [
    "#### Gene Expression"
   ]
  },
  {
   "cell_type": "code",
   "execution_count": null,
   "id": "29841da8-96c5-415d-9dd9-d6c8df231639",
   "metadata": {},
   "outputs": [],
   "source": [
    "query_gene_exp <- GDCquery(\n",
    "    project = \"TCGA-GBM\",\n",
    "    data.category = \"Transcriptome Profiling\",\n",
    "    data.type = \"Gene Expression Quantification\",\n",
    "    workflow.type = \"HTSeq - Counts\"\n",
    ")\n",
    "GDCdownload(query_gene_exp)\n",
    "data_gene_exp <- GDCprepare(query_gene_exp)\n"
   ]
  },
  {
   "cell_type": "markdown",
   "id": "2fd557bf-5399-414c-8b98-238b16bd41f4",
   "metadata": {},
   "source": [
    "#### miRNA Expression"
   ]
  },
  {
   "cell_type": "code",
   "execution_count": null,
   "id": "99b827ed-8d42-4da8-98d8-730b5a2e6b5f",
   "metadata": {},
   "outputs": [],
   "source": [
    "query_mirna_exp <- GDCquery(\n",
    "    project = \"TCGA-GBM\",\n",
    "    data.category = \"Transcriptome Profiling\",\n",
    "    data.type = \"miRNA Expression Quantification\"\n",
    ")\n",
    "GDCdownload(query_mirna_exp)\n",
    "data_mirna_exp <- GDCprepare(query_mirna_exp)\n"
   ]
  },
  {
   "cell_type": "markdown",
   "id": "5e797c4f-0aaf-4df2-a427-df1c2f1146e3",
   "metadata": {},
   "source": [
    "#### DNA Methylation"
   ]
  },
  {
   "cell_type": "code",
   "execution_count": null,
   "id": "a3ebda0e-4212-452a-9531-aedc8b2b91fc",
   "metadata": {},
   "outputs": [],
   "source": [
    "query_methylation <- GDCquery(\n",
    "    project = \"TCGA-GBM\",\n",
    "    data.category = \"DNA Methylation\",\n",
    "    platform = \"Illumina Human Methylation 450\"\n",
    ")\n",
    "GDCdownload(query_methylation)\n",
    "data_methylation <- GDCprepare(query_methylation)\n"
   ]
  },
  {
   "cell_type": "markdown",
   "id": "e8403175-42d2-4d8a-b958-b9058fcfe463",
   "metadata": {},
   "source": [
    "#### CNV"
   ]
  },
  {
   "cell_type": "code",
   "execution_count": null,
   "id": "ca521141-03ce-4ebb-bcc0-64a2bd8563b6",
   "metadata": {},
   "outputs": [],
   "source": [
    "query_cnv <- GDCquery(\n",
    "    project = \"TCGA-GBM\",\n",
    "    data.category = \"Copy Number Variation\",\n",
    "    data.type = \"Copy Number Segment\"\n",
    ")\n",
    "GDCdownload(query_cnv)\n",
    "data_cnv <- GDCprepare(query_cnv)\n"
   ]
  },
  {
   "cell_type": "markdown",
   "id": "6f3fe40f-adbe-4f14-b006-6922404e8323",
   "metadata": {},
   "source": [
    "#### Somatic Mutation"
   ]
  },
  {
   "cell_type": "code",
   "execution_count": null,
   "id": "0cb09aab-899c-48bf-9c24-287142b9cc1d",
   "metadata": {},
   "outputs": [],
   "source": [
    "query_somatic_mut <- GDCquery(\n",
    "    project = \"TCGA-GBM\",\n",
    "    data.category = \"Simple Nucleotide Variation\",\n",
    "    data.type = \"Masked Somatic Mutation\"\n",
    ")\n",
    "GDCdownload(query_somatic_mut)\n",
    "data_somatic_mut <- GDCprepare(query_somatic_mut)\n"
   ]
  },
  {
   "cell_type": "markdown",
   "id": "558b8bab-d6ad-484e-a3e4-50d401aa72d0",
   "metadata": {},
   "source": [
    "#### Protein Expression"
   ]
  },
  {
   "cell_type": "code",
   "execution_count": null,
   "id": "bd989e04-35cd-4fe8-991b-2d49ffc845bd",
   "metadata": {},
   "outputs": [],
   "source": [
    "query_protein_exp <- GDCquery(\n",
    "    project = \"TCGA-GBM\",\n",
    "    data.category = \"Proteome Profiling\",\n",
    "    data.type = \"Protein Expression Quantification\"\n",
    ")\n",
    "GDCdownload(query_protein_exp)\n",
    "data_protein_exp <- GDCprepare(query_protein_exp)\n"
   ]
  },
  {
   "cell_type": "markdown",
   "id": "20671f70-a0b2-4d42-a3b7-0c27d2028436",
   "metadata": {},
   "source": [
    "#### Clinical Data"
   ]
  },
  {
   "cell_type": "code",
   "execution_count": null,
   "id": "89aaa6ad-4757-4d92-83ed-371855c92d47",
   "metadata": {},
   "outputs": [],
   "source": [
    "query_clinical <- GDCquery(\n",
    "    project = \"TCGA-GBM\",\n",
    "    data.category = \"Clinical\",\n",
    "    data.type = \"Clinical Supplement\",\n",
    "    data.format = \"BCR Biotab\"\n",
    ")\n",
    "GDCdownload(query_clinical)\n",
    "clinical_data <- GDCprepare(query_clinical)\n"
   ]
  },
  {
   "cell_type": "markdown",
   "id": "0a32815e-eed0-4a95-8fa7-db432fac63b1",
   "metadata": {},
   "source": [
    "#### Metadata"
   ]
  },
  {
   "cell_type": "code",
   "execution_count": null,
   "id": "9b7f99e7-8cba-4ae9-b324-3dfa4b57d8eb",
   "metadata": {},
   "outputs": [],
   "source": [
    "query_metadata <- GDCquery(\n",
    "    project = \"TCGA-GBM\",\n",
    "    data.category = \"Biospecimen\",\n",
    "    data.type = \"Biospecimen Supplement\",\n",
    "    data.format = \"BCR Biotab\"\n",
    ")\n",
    "GDCdownload(query_metadata)\n",
    "metadata <- GDCprepare(query_metadata)\n"
   ]
  },
  {
   "cell_type": "markdown",
   "id": "0fb1f6a4-5884-4cbf-bd8d-22de3176314d",
   "metadata": {},
   "source": [
    "#### Sample Types\n",
    "\n",
    "Sample Type Codes\n",
    "\n",
    "01: Primary Solid Tumor (TP)\n",
    "\n",
    "02: Recurrent Solid Tumor (TR)\n",
    "\n",
    "03: Primary Blood Derived Cancer - Peripheral Blood (TB)\n",
    "\n",
    "04: Recurrent Blood Derived Cancer - Bone Marrow (TRBM)\n",
    "\n",
    "05: Additional - New Primary (TAP)\n",
    "\n",
    "06: Metastatic (TM)\n",
    "\n",
    "07: Additional Metastatic (TAM)\n",
    "\n",
    "10: Blood Derived Normal (NB)\n",
    "\n",
    "11: Solid Tissue Normal (NT)\n",
    "\n",
    "12: Buccal Cell Normal (NBC)\n",
    "\n",
    "13: EBV Immortalized Normal (NEBV)\n",
    "\n",
    "14: Bone Marrow Normal (NBM)"
   ]
  },
  {
   "cell_type": "code",
   "execution_count": null,
   "id": "ed9b3315-9dd8-4906-9df9-b7e6a22a3b38",
   "metadata": {},
   "outputs": [],
   "source": [
    "# Install and load TCGAbiolinks\n",
    "if (!requireNamespace(\"BiocManager\", quietly = TRUE))\n",
    "    install.packages(\"BiocManager\")\n",
    "BiocManager::install(\"TCGAbiolinks\")\n",
    "library(TCGAbiolinks)\n",
    "\n",
    "# Query the GDC database for metadata\n",
    "query_metadata <- GDCquery(\n",
    "    project = \"TCGA-GBM\",\n",
    "    data.category = \"Biospecimen\",\n",
    "    data.type = \"Biospecimen Supplement\",\n",
    "    data.format = \"BCR Biotab\"\n",
    ")\n",
    "GDCdownload(query_metadata)\n",
    "metadata <- GDCprepare(query_metadata)\n",
    "\n",
    "# View the first few rows of the metadata\n",
    "head(metadata)\n",
    "\n",
    "# Identify normal vs. tumor samples\n",
    "normal_samples <- metadata[metadata$sample_type == \"Solid Tissue Normal\", ]\n",
    "tumor_samples <- metadata[metadata$sample_type == \"Primary Solid Tumor\", ]\n",
    "\n",
    "# View the identified samples\n",
    "head(normal_samples)\n",
    "head(tumor_samples)\n"
   ]
  },
  {
   "cell_type": "code",
   "execution_count": null,
   "id": "8d52d77e-09e8-4e80-b5db-e2257f9ac4f2",
   "metadata": {},
   "outputs": [],
   "source": []
  },
  {
   "cell_type": "code",
   "execution_count": null,
   "id": "8d05c532-170f-4753-a370-c16b079ec559",
   "metadata": {},
   "outputs": [],
   "source": [
    "# Query the GDC database for GBM gene expression data\n",
    "query <- GDCquery(\n",
    "    project = \"TCGA-GBM\",\n",
    "    data.category = \"Transcriptome Profiling\",\n",
    "    data.type = \"Gene Expression Quantification\",\n",
    "    workflow.type = \"HTSeq - Counts\"\n",
    ")\n",
    "\n",
    "# Download the data\n",
    "GDCdownload(query)\n",
    "\n",
    "# Prepare the data\n",
    "data <- GDCprepare(query)\n",
    "\n",
    "# Extract the gene expression data matrix\n",
    "gene_expression_matrix <- assay(data, \"HTSeq - Counts\")\n",
    "\n",
    "# View the first few rows of the gene expression matrix\n",
    "head(gene_expression_matrix)\n"
   ]
  }
 ],
 "metadata": {
  "kernelspec": {
   "display_name": "R (r_research_env)",
   "language": "R",
   "name": "r_env"
  },
  "language_info": {
   "codemirror_mode": "r",
   "file_extension": ".r",
   "mimetype": "text/x-r-source",
   "name": "R",
   "pygments_lexer": "r",
   "version": "4.4.2"
  }
 },
 "nbformat": 4,
 "nbformat_minor": 5
}
