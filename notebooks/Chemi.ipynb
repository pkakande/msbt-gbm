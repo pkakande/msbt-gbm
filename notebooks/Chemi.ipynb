{
 "cells": [
  {
   "cell_type": "code",
   "execution_count": 7,
   "id": "e1512ee9-532a-45f3-bba3-d87e2d8935e8",
   "metadata": {},
   "outputs": [],
   "source": [
    "import os\n",
    "import requests\n",
    "from tqdm import tqdm"
   ]
  },
  {
   "cell_type": "code",
   "execution_count": 8,
   "id": "00396b31-91a7-42d1-9e77-04ee5346bc0f",
   "metadata": {},
   "outputs": [],
   "source": [
    "def download_zinc_data(zinc_ids, output_folder, file_format='sdf'):\n",
    "    base_url = 'https://zinc20.docking.org/substances/'\n",
    "    \n",
    "    if not os.path.exists(output_folder):\n",
    "        os.makedirs(output_folder)\n",
    "    \n",
    "    for zinc_id in tqdm(zinc_ids, desc=\"Downloading ZINC Data\"):\n",
    "        url = f\"{base_url}{zinc_id}.{file_format}\"\n",
    "        response = requests.get(url)\n",
    "        \n",
    "        if response.status_code == 200:\n",
    "            file_path = os.path.join(output_folder, f\"{zinc_id}.{file_format}\")\n",
    "            with open(file_path, 'wb') as file:\n",
    "                file.write(response.content)\n",
    "        else:\n",
    "            print(f\"Failed to download {zinc_id}: HTTP {response.status_code}\")"
   ]
  },
  {
   "cell_type": "code",
   "execution_count": 9,
   "id": "370e839c-d6eb-4fd9-9133-49e59786fff8",
   "metadata": {},
   "outputs": [],
   "source": [
    "zinc_ids = ['ZINC00000001', 'ZINC00000002', 'ZINC00000003']  # Replace with your ZINC IDs\n",
    "output_folder = 'zinc_data'\n",
    "file_format = 'sdf'  # Change to 'smi', 'csv', 'xml', or 'json' if needed"
   ]
  },
  {
   "cell_type": "code",
   "execution_count": 10,
   "id": "00cc4aea-b6cb-42ac-9f73-e4d8b6099f49",
   "metadata": {},
   "outputs": [
    {
     "name": "stderr",
     "output_type": "stream",
     "text": [
      "Downloading ZINC Data:  33%|███▎      | 1/3 [00:02<00:05,  2.95s/it]"
     ]
    },
    {
     "name": "stdout",
     "output_type": "stream",
     "text": [
      "Failed to download ZINC00000001: HTTP 404\n"
     ]
    },
    {
     "name": "stderr",
     "output_type": "stream",
     "text": [
      "Downloading ZINC Data: 100%|██████████| 3/3 [00:26<00:00,  8.99s/it]"
     ]
    },
    {
     "name": "stdout",
     "output_type": "stream",
     "text": [
      "Failed to download ZINC00000003: HTTP 404\n"
     ]
    },
    {
     "name": "stderr",
     "output_type": "stream",
     "text": [
      "\n"
     ]
    }
   ],
   "source": [
    "download_zinc_data(zinc_ids, output_folder, file_format)"
   ]
  },
  {
   "cell_type": "code",
   "execution_count": null,
   "id": "250cd5b3-cf0c-48b5-bb35-b3a5312f878f",
   "metadata": {},
   "outputs": [],
   "source": []
  }
 ],
 "metadata": {
  "kernelspec": {
   "display_name": "Python (research)",
   "language": "python",
   "name": "research"
  },
  "language_info": {
   "codemirror_mode": {
    "name": "ipython",
    "version": 3
   },
   "file_extension": ".py",
   "mimetype": "text/x-python",
   "name": "python",
   "nbconvert_exporter": "python",
   "pygments_lexer": "ipython3",
   "version": "3.9.21"
  }
 },
 "nbformat": 4,
 "nbformat_minor": 5
}
