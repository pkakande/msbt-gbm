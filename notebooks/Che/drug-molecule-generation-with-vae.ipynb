{
 "cells": [
  {
   "cell_type": "markdown",
   "id": "1999da74",
   "metadata": {
    "id": "vtqce6023nPX",
    "papermill": {
     "duration": 0.031303,
     "end_time": "2022-03-28T10:31:11.437895",
     "exception": false,
     "start_time": "2022-03-28T10:31:11.406592",
     "status": "completed"
    },
    "tags": []
   },
   "source": [
    "## Drug Molecule Generation with VAE\n",
    "\n",
    "**Author:** [Victor Basu](https://www.linkedin.com/in/victor-basu-520958147)<br>\n",
    "**Date created:** 2022/03/10<br>\n",
    "**Last modified:** 2022/03/27<br>\n",
    "**Description:** Implementing a Convolutional Variational AutoEncoder (VAE) for Drug Discovery."
   ]
  },
  {
   "cell_type": "markdown",
   "id": "db0e5c60",
   "metadata": {
    "papermill": {
     "duration": 0.028252,
     "end_time": "2022-03-28T10:31:11.495777",
     "exception": false,
     "start_time": "2022-03-28T10:31:11.467525",
     "status": "completed"
    },
    "tags": []
   },
   "source": [
    "## Note\n",
    "\n",
    "This notebook is an experimental version of the original example that I have contributed at Keras.io, [Drug Molecule Generation with VAE](https://keras.io/examples/generative/molecule_generation/). Please visit the original example mentioned for understanding."
   ]
  },
  {
   "cell_type": "markdown",
   "id": "a5afb3bf",
   "metadata": {
    "id": "pbZD_2a77LdG",
    "papermill": {
     "duration": 0.029629,
     "end_time": "2022-03-28T10:31:11.553765",
     "exception": false,
     "start_time": "2022-03-28T10:31:11.524136",
     "status": "completed"
    },
    "tags": []
   },
   "source": [
    "## Introduction\n",
    "In this example, we use a Variational Autoencoder to generate molecules for drug discovery.\n",
    "We use the research papers\n",
    "[Automatic chemical design using a data-driven continuous representation of molecules](https://arxiv.org/abs/1610.02415)\n",
    "and [MolGAN: An implicit generative model for small molecular graphs](https://arxiv.org/abs/1805.11973)\n",
    "as a reference.\n",
    "The model described in the paper **Automatic chemical design using a data-driven\n",
    "continuous representation of molecules** generates new molecules via efficient exploration\n",
    "of open-ended spaces of chemical compounds. The model consists of\n",
    "three components: Encoder, Decoder and Predictor. The Encoder converts the discrete\n",
    "representation of a molecule into a real-valued continuous vector, and the Decoder\n",
    "converts these continuous vectors back to discrete molecule representations. The\n",
    "Predictor estimates chemical properties from the latent continuous vector representation\n",
    "of the molecule. Continuous representations allow the use of gradient-based\n",
    "optimization to efficiently guide the search for optimized functional compounds.\n",
    "![intro](https://bit.ly/3CtPMzM)\n",
    "**Figure (a)** - A diagram of the autoencoder used for molecule design, including the\n",
    "joint property prediction model. Starting from a discrete molecule representation, such\n",
    "as a SMILES string, the encoder network converts each molecule into a vector in the\n",
    "latent space, which is effectively a continuous molecule representation. Given a point\n",
    "in the latent space, the decoder network produces a corresponding SMILES string. A\n",
    "multilayer perceptron network estimates the value of target properties associated with\n",
    "each molecule.\n",
    "**Figure (b)** - Gradient-based optimization in continuous latent space. After training a\n",
    "surrogate model `f(z)` to predict the properties of molecules based on their latent\n",
    "representation `z`, we can optimize `f(z)` with respect to `z` to find new latent\n",
    "representations expected to match specific desired properties. These new latent\n",
    "representations can then be decoded into SMILES strings, at which point their properties\n",
    "can be tested empirically.\n",
    "For an explanation and implementation of MolGAN, please refer to the Keras Example\n",
    "[**WGAN-GP with R-GCN for the generation of small molecular graphs**](https://bit.ly/3pU6zXK) by\n",
    "Alexander Kensert. Many of the functions used in the present example are from the above Keras example."
   ]
  },
  {
   "cell_type": "markdown",
   "id": "aeb36007",
   "metadata": {
    "id": "f7t4VRiynnMQ",
    "papermill": {
     "duration": 0.029306,
     "end_time": "2022-03-28T10:31:11.612752",
     "exception": false,
     "start_time": "2022-03-28T10:31:11.583446",
     "status": "completed"
    },
    "tags": []
   },
   "source": [
    "## Setup\n",
    "RDKit is an open source toolkit for cheminformatics and machine learning. This toolkit come in handy\n",
    "if one is into drug discovery domain. In this example, RDKit is used to conviently\n",
    "and efficiently transform SMILES to molecule objects, and then from those obtain sets of atoms\n",
    "and bonds.\n",
    "Quoting from\n",
    "[WGAN-GP with R-GCN for the generation of small molecular graphs](https://keras.io/examples/generative/wgan-graphs/)):\n",
    "**\"SMILES expresses the structure of a given molecule in the form of an ASCII string.\n",
    "The SMILES string is a compact encoding which, for smaller molecules, is relatively human-readable.\n",
    "Encoding molecules as a string both alleviates and facilitates database and/or web searching\n",
    "of a given molecule. RDKit uses algorithms to accurately transform a given SMILES to\n",
    "a molecule object, which can then be used to compute a great number of molecular properties/features.\"**"
   ]
  },
  {
   "cell_type": "code",
   "execution_count": 1,
   "id": "fab9e1df",
   "metadata": {
    "execution": {
     "iopub.execute_input": "2022-03-28T10:31:11.683292Z",
     "iopub.status.busy": "2022-03-28T10:31:11.681695Z",
     "iopub.status.idle": "2022-03-28T10:31:22.239493Z",
     "shell.execute_reply": "2022-03-28T10:31:22.238499Z",
     "shell.execute_reply.started": "2022-03-27T14:43:34.653157Z"
    },
    "id": "zBkOt6LKU3K7",
    "outputId": "66ff89d7-4c51-43ac-e8b6-ce049a7ef1a7",
    "papermill": {
     "duration": 10.593494,
     "end_time": "2022-03-28T10:31:22.239655",
     "exception": false,
     "start_time": "2022-03-28T10:31:11.646161",
     "status": "completed"
    },
    "tags": []
   },
   "outputs": [
    {
     "name": "stdout",
     "output_type": "stream",
     "text": [
      "\u001b[33mWARNING: Running pip as the 'root' user can result in broken permissions and conflicting behaviour with the system package manager. It is recommended to use a virtual environment instead: https://pip.pypa.io/warnings/venv\u001b[0m\r\n"
     ]
    }
   ],
   "source": [
    "#!pip -q install rdkit-pypi==2021.9.4"
   ]
  },
  {
   "cell_type": "code",
   "execution_count": 2,
   "id": "79e22fda",
   "metadata": {
    "id": "-A3c2JuEWdKJ",
    "papermill": {
     "duration": 5.158417,
     "end_time": "2022-03-28T10:31:27.425211",
     "exception": false,
     "start_time": "2022-03-28T10:31:22.266794",
     "status": "completed"
    },
    "tags": []
   },
   "outputs": [],
   "source": [
    "import ast\n",
    "\n",
    "import pandas as pd\n",
    "import numpy as np\n",
    "\n",
    "import tensorflow as tf\n",
    "from tensorflow import keras\n",
    "from tensorflow.keras import layers\n",
    "\n",
    "import matplotlib.pyplot as plt\n",
    "from rdkit import Chem, RDLogger\n",
    "from rdkit.Chem.Draw import MolsToGridImage\n",
    "\n",
    "RDLogger.DisableLog(\"rdApp.*\")"
   ]
  },
  {
   "cell_type": "markdown",
   "id": "da75d89a",
   "metadata": {
    "id": "wmAeegYQntmB",
    "papermill": {
     "duration": 0.026801,
     "end_time": "2022-03-28T10:31:27.479039",
     "exception": false,
     "start_time": "2022-03-28T10:31:27.452238",
     "status": "completed"
    },
    "tags": []
   },
   "source": [
    "## Dataset\n",
    "\n",
    "We use the [**ZINC – A Free Database of Commercially Available Compounds for\n",
    "Virtual Screening**](https://bit.ly/3IVBI4x) dataset. The dataset comes with molecule\n",
    "formula in SMILE representation along with their respective molecular properties such as\n",
    "**logP** (water–octanal partition coefficient), **SAS** (synthetic\n",
    "accessibility score) and **QED** (Qualitative Estimate of Drug-likeness)."
   ]
  },
  {
   "cell_type": "code",
   "execution_count": 4,
   "id": "457774f9",
   "metadata": {
    "id": "3jpjZBWoHyIV",
    "outputId": "725edd29-2b54-4859-c38f-713d6aba5747",
    "papermill": {
     "duration": 0.694725,
     "end_time": "2022-03-28T10:31:28.200012",
     "exception": false,
     "start_time": "2022-03-28T10:31:27.505287",
     "status": "completed"
    },
    "tags": []
   },
   "outputs": [
    {
     "data": {
      "text/html": [
       "<div>\n",
       "<style scoped>\n",
       "    .dataframe tbody tr th:only-of-type {\n",
       "        vertical-align: middle;\n",
       "    }\n",
       "\n",
       "    .dataframe tbody tr th {\n",
       "        vertical-align: top;\n",
       "    }\n",
       "\n",
       "    .dataframe thead th {\n",
       "        text-align: right;\n",
       "    }\n",
       "</style>\n",
       "<table border=\"1\" class=\"dataframe\">\n",
       "  <thead>\n",
       "    <tr style=\"text-align: right;\">\n",
       "      <th></th>\n",
       "      <th>smiles</th>\n",
       "      <th>logP</th>\n",
       "      <th>qed</th>\n",
       "      <th>SAS</th>\n",
       "    </tr>\n",
       "  </thead>\n",
       "  <tbody>\n",
       "    <tr>\n",
       "      <th>0</th>\n",
       "      <td>CC(C)(C)c1ccc2occ(CC(=O)Nc3ccccc3F)c2c1</td>\n",
       "      <td>5.05060</td>\n",
       "      <td>0.702012</td>\n",
       "      <td>2.084095</td>\n",
       "    </tr>\n",
       "    <tr>\n",
       "      <th>1</th>\n",
       "      <td>C[C@@H]1CC(Nc2cncc(-c3nncn3C)c2)C[C@@H](C)C1</td>\n",
       "      <td>3.11370</td>\n",
       "      <td>0.928975</td>\n",
       "      <td>3.432004</td>\n",
       "    </tr>\n",
       "    <tr>\n",
       "      <th>2</th>\n",
       "      <td>N#Cc1ccc(-c2ccc(O[C@@H](C(=O)N3CCCC3)c3ccccc3)...</td>\n",
       "      <td>4.96778</td>\n",
       "      <td>0.599682</td>\n",
       "      <td>2.470633</td>\n",
       "    </tr>\n",
       "    <tr>\n",
       "      <th>3</th>\n",
       "      <td>CCOC(=O)[C@@H]1CCCN(C(=O)c2nc(-c3ccc(C)cc3)n3c...</td>\n",
       "      <td>4.00022</td>\n",
       "      <td>0.690944</td>\n",
       "      <td>2.822753</td>\n",
       "    </tr>\n",
       "    <tr>\n",
       "      <th>4</th>\n",
       "      <td>N#CC1=C(SCC(=O)Nc2cccc(Cl)c2)N=C([O-])[C@H](C#...</td>\n",
       "      <td>3.60956</td>\n",
       "      <td>0.789027</td>\n",
       "      <td>4.035182</td>\n",
       "    </tr>\n",
       "  </tbody>\n",
       "</table>\n",
       "</div>"
      ],
      "text/plain": [
       "                                              smiles     logP       qed  \\\n",
       "0            CC(C)(C)c1ccc2occ(CC(=O)Nc3ccccc3F)c2c1  5.05060  0.702012   \n",
       "1       C[C@@H]1CC(Nc2cncc(-c3nncn3C)c2)C[C@@H](C)C1  3.11370  0.928975   \n",
       "2  N#Cc1ccc(-c2ccc(O[C@@H](C(=O)N3CCCC3)c3ccccc3)...  4.96778  0.599682   \n",
       "3  CCOC(=O)[C@@H]1CCCN(C(=O)c2nc(-c3ccc(C)cc3)n3c...  4.00022  0.690944   \n",
       "4  N#CC1=C(SCC(=O)Nc2cccc(Cl)c2)N=C([O-])[C@H](C#...  3.60956  0.789027   \n",
       "\n",
       "        SAS  \n",
       "0  2.084095  \n",
       "1  3.432004  \n",
       "2  2.470633  \n",
       "3  2.822753  \n",
       "4  4.035182  "
      ]
     },
     "execution_count": 4,
     "metadata": {},
     "output_type": "execute_result"
    }
   ],
   "source": [
    "df = pd.read_csv(\"./250k_rndm_zinc_drugs_clean_3.csv\")\n",
    "df['smiles'] = df['smiles'].apply(lambda s: s.replace('\\n', ''))\n",
    "df.head()"
   ]
  },
  {
   "cell_type": "code",
   "execution_count": 5,
   "id": "c78847b1",
   "metadata": {
    "id": "zgHgKkegH4F4",
    "papermill": {
     "duration": 0.034601,
     "end_time": "2022-03-28T10:31:28.261863",
     "exception": false,
     "start_time": "2022-03-28T10:31:28.227262",
     "status": "completed"
    },
    "tags": []
   },
   "outputs": [],
   "source": [
    "def molecule_from_smiles(smiles):\n",
    "    # MolFromSmiles(m, sanitize=True) should be equivalent to\n",
    "    # MolFromSmiles(m, sanitize=False) -> SanitizeMol(m) -> AssignStereochemistry(m, ...)\n",
    "    molecule = Chem.MolFromSmiles(smiles, sanitize=False)\n",
    "\n",
    "    # If sanitization is unsuccessful, catch the error, and try again without\n",
    "    # the sanitization step that caused the error\n",
    "    flag = Chem.SanitizeMol(molecule, catchErrors=True)\n",
    "    if flag != Chem.SanitizeFlags.SANITIZE_NONE:\n",
    "        Chem.SanitizeMol(molecule, sanitizeOps=Chem.SanitizeFlags.SANITIZE_ALL ^ flag)\n",
    "\n",
    "    Chem.AssignStereochemistry(molecule, cleanIt=True, force=True)\n",
    "    return molecule"
   ]
  },
  {
   "cell_type": "code",
   "execution_count": 6,
   "id": "761fd3c6",
   "metadata": {
    "id": "5Bl-9VRHUc_g",
    "outputId": "42f0db7f-ce10-4b0d-eca1-432f56f3bb63",
    "papermill": {
     "duration": 0.04579,
     "end_time": "2022-03-28T10:31:28.334110",
     "exception": false,
     "start_time": "2022-03-28T10:31:28.288320",
     "status": "completed"
    },
    "tags": []
   },
   "outputs": [
    {
     "name": "stdout",
     "output_type": "stream",
     "text": [
      "SMILES:\tCOc1ccc([C@H]2C[C@@H](C(F)(F)F)n3nc(C(=O)NC4CCCCC4)cc3N2)cc1OC\n",
      "logP:\t4.6231\n",
      "qed:\t0.661591299118\n",
      "Molecule:\n"
     ]
    },
    {
     "data": {
      "image/png": "[encoded data removed]",
      "text/plain": [
       "<rdkit.Chem.rdchem.Mol at 0x7f21955b3890>"
      ]
     },
     "execution_count": 6,
     "metadata": {},
     "output_type": "execute_result"
    }
   ],
   "source": [
    "print(f\"SMILES:\\t{df.smiles[100]}\\nlogP:\\t{df.logP[100]}\\nqed:\\t{df.qed[100]}\")\n",
    "molecule = molecule_from_smiles(df.iloc[29].smiles)\n",
    "print(\"Molecule:\")\n",
    "molecule"
   ]
  },
  {
   "cell_type": "code",
   "execution_count": 7,
   "id": "d2ed95ab",
   "metadata": {
    "id": "2a28g7DsyWfP",
    "outputId": "af1f59ea-7f7e-4e0b-dcc3-4de1cf58f490",
    "papermill": {
     "duration": 0.224506,
     "end_time": "2022-03-28T10:31:28.586286",
     "exception": false,
     "start_time": "2022-03-28T10:31:28.361780",
     "status": "completed"
    },
    "tags": []
   },
   "outputs": [
    {
     "name": "stdout",
     "output_type": "stream",
     "text": [
      "Max molecule size: 109\n",
      "Character set Length: 11\n"
     ]
    }
   ],
   "source": [
    "SMILE_CHARSET = '[\"C\", \"B\", \"F\", \"I\", \"H\", \"O\", \"N\", \"S\", \\\n",
    "                  \"P\", \"Cl\", \"Br\"]'             \n",
    "bond_mapping = {\n",
    "    \"SINGLE\": 0,\n",
    "    0: Chem.BondType.SINGLE,\n",
    "    \"DOUBLE\": 1,\n",
    "    1: Chem.BondType.DOUBLE,\n",
    "    \"TRIPLE\": 2,\n",
    "    2: Chem.BondType.TRIPLE,\n",
    "    \"AROMATIC\": 3,\n",
    "    3: Chem.BondType.AROMATIC,\n",
    "}\n",
    "SMILE_CHARSET = ast.literal_eval(SMILE_CHARSET)\n",
    "\n",
    "MAX_MOLSIZE = max(df['smiles'].str.len())\n",
    "SMILE_to_index = dict((c, i) for i, c in enumerate(SMILE_CHARSET))\n",
    "index_to_SMILE = dict((i, c) for i, c in enumerate(SMILE_CHARSET))\n",
    "atom_mapping = dict(SMILE_to_index)\n",
    "atom_mapping.update(index_to_SMILE)\n",
    "\n",
    "print(\"Max molecule size: {}\".format(MAX_MOLSIZE))\n",
    "print(\"Character set Length: {}\".format(len(SMILE_CHARSET)))"
   ]
  },
  {
   "cell_type": "markdown",
   "id": "99b35d67",
   "metadata": {
    "id": "nqMBVEtntlhi",
    "papermill": {
     "duration": 0.02771,
     "end_time": "2022-03-28T10:31:28.642565",
     "exception": false,
     "start_time": "2022-03-28T10:31:28.614855",
     "status": "completed"
    },
    "tags": []
   },
   "source": [
    "## Hyperparameters"
   ]
  },
  {
   "cell_type": "code",
   "execution_count": 8,
   "id": "8c11019d",
   "metadata": {
    "id": "0L44eVm-tkSL",
    "papermill": {
     "duration": 0.035246,
     "end_time": "2022-03-28T10:31:28.705523",
     "exception": false,
     "start_time": "2022-03-28T10:31:28.670277",
     "status": "completed"
    },
    "tags": []
   },
   "outputs": [],
   "source": [
    "BATCH_SIZE = 32\n",
    "EPOCHS =10\n",
    "\n",
    "VAE_LR = 5e-4\n",
    "NUM_ATOMS = 120 # Maximum number of atoms\n",
    "\n",
    "ATOM_DIM = len(SMILE_CHARSET)  # Number of atom types\n",
    "BOND_DIM = 4 + 1  # Number of bond types\n",
    "LATENT_DIM = 435  # Size of the latent space"
   ]
  },
  {
   "cell_type": "code",
   "execution_count": 9,
   "id": "e5675775",
   "metadata": {
    "id": "JrFJum15nX8j",
    "papermill": {
     "duration": 0.045361,
     "end_time": "2022-03-28T10:31:28.778864",
     "exception": false,
     "start_time": "2022-03-28T10:31:28.733503",
     "status": "completed"
    },
    "tags": []
   },
   "outputs": [],
   "source": [
    "def smiles_to_graph(smiles):\n",
    "    '''\n",
    "    Reference: https://keras.io/examples/generative/wgan-graphs/\n",
    "    '''\n",
    "    # Converts SMILES to molecule object\n",
    "    molecule = Chem.MolFromSmiles(smiles)\n",
    "\n",
    "    # Initialize adjacency and feature tensor\n",
    "    adjacency = np.zeros((BOND_DIM, NUM_ATOMS, NUM_ATOMS), \"float32\")\n",
    "    features = np.zeros((NUM_ATOMS, ATOM_DIM), \"float32\")\n",
    "\n",
    "    # loop over each atom in molecule\n",
    "    for atom in molecule.GetAtoms():\n",
    "        i = atom.GetIdx()\n",
    "        atom_type = atom_mapping[atom.GetSymbol()]\n",
    "        features[i] = np.eye(ATOM_DIM)[atom_type]\n",
    "        # loop over one-hop neighbors\n",
    "        for neighbor in atom.GetNeighbors():\n",
    "            j = neighbor.GetIdx()\n",
    "            bond = molecule.GetBondBetweenAtoms(i, j)\n",
    "            bond_type_idx = bond_mapping[bond.GetBondType().name]\n",
    "            adjacency[bond_type_idx, [i, j], [j, i]] = 1\n",
    "\n",
    "    # Where no bond, add 1 to last channel (indicating \"non-bond\")\n",
    "    # Notice: channels-first\n",
    "    adjacency[-1, np.sum(adjacency, axis=0) == 0] = 1\n",
    "\n",
    "    # Where no atom, add 1 to last column (indicating \"non-atom\")\n",
    "    features[np.where(np.sum(features, axis=1) == 0)[0], -1] = 1\n",
    "\n",
    "    return adjacency, features\n",
    "\n",
    "def graph_to_molecule(graph):\n",
    "    '''\n",
    "    Reference: https://keras.io/examples/generative/wgan-graphs/\n",
    "    '''\n",
    "    # Unpack graph\n",
    "    adjacency, features = graph\n",
    "\n",
    "    # RWMol is a molecule object intended to be edited\n",
    "    molecule = Chem.RWMol()\n",
    "\n",
    "    # Remove \"no atoms\" & atoms with no bonds\n",
    "    keep_idx = np.where(\n",
    "        (np.argmax(features, axis=1) != ATOM_DIM - 1)\n",
    "        & (np.sum(adjacency[:-1], axis=(0, 1)) != 0)\n",
    "    )[0]\n",
    "    features = features[keep_idx]\n",
    "    adjacency = adjacency[:, keep_idx, :][:, :, keep_idx]\n",
    "\n",
    "    # Add atoms to molecule\n",
    "    for atom_type_idx in np.argmax(features, axis=1):\n",
    "        atom = Chem.Atom(atom_mapping[atom_type_idx])\n",
    "        _ = molecule.AddAtom(atom)\n",
    "\n",
    "    # Add bonds between atoms in molecule; based on the upper triangles\n",
    "    # of the [symmetric] adjacency tensor\n",
    "    (bonds_ij, atoms_i, atoms_j) = np.where(np.triu(adjacency) == 1)\n",
    "    for (bond_ij, atom_i, atom_j) in zip(bonds_ij, atoms_i, atoms_j):\n",
    "        if atom_i == atom_j or bond_ij == BOND_DIM - 1:\n",
    "            continue\n",
    "        bond_type = bond_mapping[bond_ij]\n",
    "        molecule.AddBond(int(atom_i), int(atom_j), bond_type)\n",
    "\n",
    "    # Sanitize the molecule; for more information on sanitization, see\n",
    "    # https://www.rdkit.org/docs/RDKit_Book.html#molecular-sanitization\n",
    "    flag = Chem.SanitizeMol(molecule, catchErrors=True)\n",
    "    # Let's be strict. If sanitization fails, return None\n",
    "    if flag != Chem.SanitizeFlags.SANITIZE_NONE:\n",
    "        return None\n",
    "\n",
    "    return molecule"
   ]
  },
  {
   "cell_type": "markdown",
   "id": "90af2c4a",
   "metadata": {
    "id": "UfVuqabPzIxe",
    "papermill": {
     "duration": 0.028073,
     "end_time": "2022-03-28T10:31:28.834783",
     "exception": false,
     "start_time": "2022-03-28T10:31:28.806710",
     "status": "completed"
    },
    "tags": []
   },
   "source": [
    "## Build Dataloader"
   ]
  },
  {
   "cell_type": "code",
   "execution_count": 10,
   "id": "3c33b71c",
   "metadata": {
    "id": "xNE8a93oEcAV",
    "papermill": {
     "duration": 0.043718,
     "end_time": "2022-03-28T10:31:28.906648",
     "exception": false,
     "start_time": "2022-03-28T10:31:28.862930",
     "status": "completed"
    },
    "tags": []
   },
   "outputs": [],
   "source": [
    "class DataGenerator(keras.utils.Sequence):\n",
    "    def __init__(self, data, mapping, max_len, batch_size=6, shuffle=True):\n",
    "        \"\"\"\n",
    "        Initialization\n",
    "        \"\"\"\n",
    "        self.data = data\n",
    "        self.indices = self.data.index.tolist()\n",
    "        self.mapping = mapping\n",
    "        self.max_len = max_len\n",
    "        self.batch_size = batch_size\n",
    "        self.shuffle = shuffle\n",
    "        \n",
    "        self.on_epoch_end()\n",
    "\n",
    "    def __len__(self):\n",
    "        return int(np.ceil(len(self.data) / self.batch_size))\n",
    "\n",
    "    def __getitem__(self, index):\n",
    "        if (index + 1) * self.batch_size > len(self.indices):\n",
    "            self.batch_size = len(self.indices) - index * self.batch_size\n",
    "        # Generate one batch of data\n",
    "        # Generate indices of the batch\n",
    "        index = self.indices[index * self.batch_size : (index + 1) * self.batch_size]\n",
    "        # Find list of IDs\n",
    "        batch = [self.indices[k] for k in index]\n",
    "        mol_features, mol_property = self.data_generation(batch)\n",
    "\n",
    "        return mol_features, mol_property\n",
    "\n",
    "    def on_epoch_end(self):\n",
    "\n",
    "        \"\"\"\n",
    "        Updates indexes after each epoch\n",
    "        \"\"\"\n",
    "        self.index = np.arange(len(self.indices))\n",
    "        if self.shuffle == True:\n",
    "            np.random.shuffle(self.index)\n",
    "\n",
    "    def load(self, idx):\n",
    "        \"\"\"\n",
    "        Load molecules adjacency matrix and features matrix from SMILE representation \n",
    "        and their respective SAS value.\n",
    "        \"\"\"\n",
    "        qed = self.data.loc[idx]['qed']\n",
    "\n",
    "        adjacency, features = smiles_to_graph(self.data.loc[idx]['smiles'])\n",
    "\n",
    "        return adjacency, features, qed\n",
    "\n",
    "        \n",
    "    def data_generation(self, batch):\n",
    "\n",
    "        x1 = np.empty((self.batch_size, BOND_DIM, self.max_len, self.max_len))\n",
    "        x2 = np.empty((self.batch_size, self.max_len, len(self.mapping)))\n",
    "        x3 = np.empty((self.batch_size, ))\n",
    "        \n",
    "        for i, batch_id in enumerate(batch):\n",
    "            x1[i,], x2[i,], x3[i,] = self.load(batch_id)\n",
    "\n",
    "        return [x1, x2], x3\n"
   ]
  },
  {
   "cell_type": "markdown",
   "id": "d336fd7e",
   "metadata": {
    "papermill": {
     "duration": 0.028121,
     "end_time": "2022-03-28T10:31:28.962798",
     "exception": false,
     "start_time": "2022-03-28T10:31:28.934677",
     "status": "completed"
    },
    "tags": []
   },
   "source": [
    "##  Generate training set"
   ]
  },
  {
   "cell_type": "code",
   "execution_count": 11,
   "id": "88bebccc",
   "metadata": {
    "id": "eI79q8CCaNmd",
    "papermill": {
     "duration": 0.122144,
     "end_time": "2022-03-28T10:31:29.112961",
     "exception": false,
     "start_time": "2022-03-28T10:31:28.990817",
     "status": "completed"
    },
    "tags": []
   },
   "outputs": [],
   "source": [
    "train_df = df.sample(frac=0.75,random_state=42) #random state is a seed value\n",
    "test_df = df.drop(train_df.index)\n",
    "train_df.reset_index(drop=True, inplace=True)\n",
    "test_df.reset_index(drop=True, inplace=True)"
   ]
  },
  {
   "cell_type": "code",
   "execution_count": 12,
   "id": "fd4437fa",
   "metadata": {
    "id": "QkK00Zo_VXvs",
    "papermill": {
     "duration": 0.042545,
     "end_time": "2022-03-28T10:31:29.184181",
     "exception": false,
     "start_time": "2022-03-28T10:31:29.141636",
     "status": "completed"
    },
    "tags": []
   },
   "outputs": [],
   "source": [
    "'''\n",
    "    Reference: https://keras.io/examples/generative/wgan-graphs/\n",
    "'''\n",
    "class RelationalGraphConvLayer(keras.layers.Layer):\n",
    "    def __init__(\n",
    "        self,\n",
    "        units=128,\n",
    "        activation=\"relu\",\n",
    "        use_bias=False,\n",
    "        kernel_initializer=\"glorot_uniform\",\n",
    "        bias_initializer=\"zeros\",\n",
    "        kernel_regularizer=None,\n",
    "        bias_regularizer=None,\n",
    "        **kwargs\n",
    "    ):\n",
    "        super().__init__(**kwargs)\n",
    "\n",
    "        self.units = units\n",
    "        self.activation = keras.activations.get(activation)\n",
    "        self.use_bias = use_bias\n",
    "        self.kernel_initializer = keras.initializers.get(kernel_initializer)\n",
    "        self.bias_initializer = keras.initializers.get(bias_initializer)\n",
    "        self.kernel_regularizer = keras.regularizers.get(kernel_regularizer)\n",
    "        self.bias_regularizer = keras.regularizers.get(bias_regularizer)\n",
    "\n",
    "    def build(self, input_shape):\n",
    "        bond_dim = input_shape[0][1]\n",
    "        atom_dim = input_shape[1][2]\n",
    "\n",
    "        self.kernel = self.add_weight(\n",
    "            shape=(bond_dim, atom_dim, self.units),\n",
    "            initializer=self.kernel_initializer,\n",
    "            regularizer=self.kernel_regularizer,\n",
    "            trainable=True,\n",
    "            name=\"W\",\n",
    "            dtype=tf.float32,\n",
    "        )\n",
    "\n",
    "        if self.use_bias:\n",
    "            self.bias = self.add_weight(\n",
    "                shape=(bond_dim, 1, self.units),\n",
    "                initializer=self.bias_initializer,\n",
    "                regularizer=self.bias_regularizer,\n",
    "                trainable=True,\n",
    "                name=\"b\",\n",
    "                dtype=tf.float32,\n",
    "            )\n",
    "\n",
    "        self.built = True\n",
    "\n",
    "    def call(self, inputs, training=False):\n",
    "        adjacency, features = inputs\n",
    "        # Aggregate information from neighbors\n",
    "        x = tf.matmul(adjacency, features[:, None, :, :])\n",
    "        # Apply linear transformation\n",
    "        x = tf.matmul(x, self.kernel)\n",
    "        if self.use_bias:\n",
    "            x += self.bias\n",
    "        # Reduce bond types dim\n",
    "        x_reduced = tf.reduce_sum(x, axis=1)\n",
    "        # Apply non-linear transformation\n",
    "        return self.activation(x_reduced)"
   ]
  },
  {
   "cell_type": "markdown",
   "id": "5d787107",
   "metadata": {
    "id": "N-BPcIQszd3i",
    "papermill": {
     "duration": 0.027975,
     "end_time": "2022-03-28T10:31:29.239986",
     "exception": false,
     "start_time": "2022-03-28T10:31:29.212011",
     "status": "completed"
    },
    "tags": []
   },
   "source": [
    "## Build the Encoder and Decoder\n",
    "The Encoder takes as input a molecule's graph adjacency matrix and feature matrix.\n",
    "These features are processed via a Graph Convolution layer, then are flattened and\n",
    "processed by several Dense layers to derive `z_mean` and `log_var`, the\n",
    "latent-space representation of the molecule.\n",
    "**Graph Convolution layer**: The relational graph convolution layer implements\n",
    "non-linearly transformed neighbourhood aggregations. We can define these layers as\n",
    "follows:\n",
    "`H_hat**(l+1) = σ(D_hat**(-1) * A_hat * H_hat**(l+1) * W**(l))`\n",
    "Where `σ` denotes the non-linear transformation (commonly a ReLU activation), `A` the\n",
    "adjacency tensor, `H_hat**(l)` the feature tensor at the `l-th` layer, `D_hat**(-1)` the\n",
    "inverse diagonal degree tensor of `A_hat`, and `W_hat**(l)` the trainable weight tensor\n",
    "at the `l-th` layer. Specifically, for each bond type (relation), the degree tensor\n",
    "expresses, in the diagonal, the number of bonds attached to each atom.\n",
    "Source:\n",
    "[WGAN-GP with R-GCN for the generation of small molecular graphs](https://keras.io/examples/generative/wgan-graphs/))\n",
    "The Decoder takes as input the latent-space representation and predicts\n",
    "the graph adjacency matrix and feature matrix of the corresponding molecules."
   ]
  },
  {
   "cell_type": "code",
   "execution_count": 23,
   "id": "758d52cc",
   "metadata": {
    "id": "OH2zSBpMgrFF",
    "papermill": {
     "duration": 0.041761,
     "end_time": "2022-03-28T10:31:29.309687",
     "exception": false,
     "start_time": "2022-03-28T10:31:29.267926",
     "status": "completed"
    },
    "tags": []
   },
   "outputs": [],
   "source": [
    "def get_encoder(gconv_units, latent_dim, adjacency_shape, feature_shape, dense_units,dropout_rate ):\n",
    "    '''\n",
    "    Reference: https://keras.io/examples/generative/wgan-graphs/\n",
    "    '''\n",
    "    adjacency = keras.layers.Input(shape=adjacency_shape)\n",
    "    features = keras.layers.Input(shape=feature_shape)\n",
    "\n",
    "    # Propagate through one or more graph convolutional layers\n",
    "    features_transformed = features\n",
    "    for units in gconv_units:\n",
    "        features_transformed = RelationalGraphConvLayer(units)(\n",
    "            [adjacency, features_transformed]\n",
    "        )\n",
    "    # Reduce 2-D representation of molecule to 1-D\n",
    "    x = keras.layers.GlobalAveragePooling1D()(features_transformed)\n",
    "\n",
    "    # Propagate through one or more densely connected layers\n",
    "    for units in dense_units:\n",
    "        x = layers.Dense(units, activation=\"relu\")(x)\n",
    "        x = layers.Dropout(dropout_rate)(x)\n",
    "    \n",
    "    z_mean = layers.Dense(latent_dim, dtype=\"float32\", name=\"z_mean\")(x)\n",
    "    log_var = layers.Dense(latent_dim, dtype=\"float32\", name=\"log_var\")(x)\n",
    "    \n",
    "    encoder = keras.Model([adjacency, features], [z_mean, log_var], name=\"encoder\")\n",
    "\n",
    "    return encoder\n",
    "\n",
    "def get_decoder(dense_units, dropout_rate, latent_dim, adjacency_shape, feature_shape):\n",
    "    '''\n",
    "    Reference: https://keras.io/examples/generative/wgan-graphs/\n",
    "    '''\n",
    "    latent_inputs = keras.Input(shape=(latent_dim,))\n",
    "\n",
    "    x = latent_inputs\n",
    "    for units in dense_units:\n",
    "        x = keras.layers.Dense(units, activation=\"tanh\")(x)\n",
    "        x = keras.layers.Dropout(dropout_rate)(x)\n",
    "\n",
    "    # Map outputs of previous layer (x) to [continuous] adjacency tensors (x_adjacency)\n",
    "    x_adjacency = keras.layers.Dense(tf.math.reduce_prod(adjacency_shape))(x)\n",
    "    x_adjacency = keras.layers.Reshape(adjacency_shape)(x_adjacency)\n",
    "    # Symmetrify tensors in the last two dimensions\n",
    "    x_adjacency = (x_adjacency + tf.transpose(x_adjacency, (0, 1, 3, 2))) / 2\n",
    "    x_adjacency = keras.layers.Softmax(axis=1)(x_adjacency)\n",
    "\n",
    "    # Map outputs of previous layer (x) to [continuous] feature tensors (x_features)\n",
    "    x_features = keras.layers.Dense(tf.math.reduce_prod(feature_shape))(x)\n",
    "    x_features = keras.layers.Reshape(feature_shape)(x_features)\n",
    "    x_features = keras.layers.Softmax(axis=2)(x_features)\n",
    "\n",
    "\n",
    "    decoder = keras.Model(latent_inputs, outputs=[x_adjacency, x_features], name=\"decoder\")\n",
    "\n",
    "    return decoder"
   ]
  },
  {
   "cell_type": "markdown",
   "id": "a27b3b8b",
   "metadata": {
    "id": "gYG3ufLmzlZW",
    "papermill": {
     "duration": 0.027726,
     "end_time": "2022-03-28T10:31:29.365452",
     "exception": false,
     "start_time": "2022-03-28T10:31:29.337726",
     "status": "completed"
    },
    "tags": []
   },
   "source": [
    "## Build Sampling layer"
   ]
  },
  {
   "cell_type": "code",
   "execution_count": 24,
   "id": "c51fe08a",
   "metadata": {
    "id": "vDI2gkqo7HLi",
    "papermill": {
     "duration": 0.036039,
     "end_time": "2022-03-28T10:31:29.429899",
     "exception": false,
     "start_time": "2022-03-28T10:31:29.393860",
     "status": "completed"
    },
    "tags": []
   },
   "outputs": [],
   "source": [
    "class Sampling(layers.Layer):\n",
    "    \"\"\"Uses (z_mean, z_log_var) to sample z, the vector encoding.\"\"\"\n",
    "\n",
    "    def call(self, inputs):\n",
    "        z_mean, z_log_var = inputs\n",
    "        batch = tf.shape(z_log_var)[0]\n",
    "        dim = tf.shape(z_log_var)[1]\n",
    "        epsilon = tf.keras.backend.random_normal(shape=(batch, dim))\n",
    "        return z_mean + tf.exp(0.5 * z_log_var) * epsilon\n"
   ]
  },
  {
   "cell_type": "markdown",
   "id": "bf196d9d",
   "metadata": {
    "id": "DRklbvcOzunX",
    "papermill": {
     "duration": 0.027638,
     "end_time": "2022-03-28T10:31:29.485618",
     "exception": false,
     "start_time": "2022-03-28T10:31:29.457980",
     "status": "completed"
    },
    "tags": []
   },
   "source": [
    "## Build the VAE\n",
    "This model is trained to optimize four losses:\n",
    "* Categorical crossentropy\n",
    "* KL divergence loss\n",
    "* Property prediction loss\n",
    "* Graph loss (gradient penalty)\n",
    "The categorical crossentropy loss function measures the model's\n",
    "reconstruction accuracy. The Property prediction loss estimates the mean squared\n",
    "error between predicted and actual properties after running the latent representation\n",
    "through a property prediction model. The property\n",
    "prediction of the model is optimized via binary crossentropy. The gradient\n",
    "penalty is further guided by the model's property (SAS) prediction.\n",
    "A gradient penalty is an alternative soft constraint on the\n",
    "1-Lipschitz continuity as an improvement upon the gradient clipping scheme from the\n",
    "original neural network\n",
    "(\"1-Lipschitz continuity\" means that the norm of the gradient is at most 1 at evey single\n",
    "point of the function).\n",
    "It adds a regularization term to the loss function."
   ]
  },
  {
   "cell_type": "code",
   "execution_count": 25,
   "id": "47f1ca1f",
   "metadata": {
    "id": "1XdQDun-lwAI",
    "papermill": {
     "duration": 0.055945,
     "end_time": "2022-03-28T10:31:29.570152",
     "exception": false,
     "start_time": "2022-03-28T10:31:29.514207",
     "status": "completed"
    },
    "tags": []
   },
   "outputs": [],
   "source": [
    "class MoleculeGenerator(keras.Model):\n",
    "    def __init__(self, encoder, decoder, max_len, **kwargs):\n",
    "        super().__init__(**kwargs)\n",
    "        self.encoder = encoder\n",
    "        self.decoder = decoder\n",
    "        self.property_prediction_layer = layers.Dense(1)\n",
    "        self.max_len = max_len\n",
    "\n",
    "        self.train_total_loss_tracker = keras.metrics.Mean(name=\"train_total_loss\")\n",
    "        self.val_total_loss_tracker = keras.metrics.Mean(name=\"val_total_loss\")\n",
    "\n",
    "    def train_step(self, data):\n",
    "        mol_features, mol_property = data\n",
    "        graph_real = mol_features\n",
    "        self.batch_size = tf.shape(mol_property)[0]\n",
    "        with tf.GradientTape() as tape:\n",
    "            z_mean, z_log_var, property_prediction, \\\n",
    "             reconstruction_adjacency, reconstruction_features = self(mol_features,\n",
    "                                                                             training=True)\n",
    "            graph_generated = [reconstruction_adjacency, reconstruction_features]\n",
    "            total_loss = self.calculate_loss(z_log_var,\n",
    "                                             z_mean,\n",
    "                                             mol_property,\n",
    "                                             property_prediction,\n",
    "                                             graph_real,\n",
    "                                             graph_generated,\n",
    "                                             is_train=True)\n",
    "\n",
    "        grads = tape.gradient(total_loss, self.trainable_weights)\n",
    "        self.optimizer.apply_gradients(zip(grads, self.trainable_weights))\n",
    "\n",
    "        self.train_total_loss_tracker.update_state(total_loss)\n",
    "        return {\n",
    "            \"loss\": self.train_total_loss_tracker.result(),\n",
    "        }\n",
    "\n",
    "    def test_step(self, data):\n",
    "        mol_features, mol_property = data\n",
    "        z_mean, z_log_var, property_prediction, \\\n",
    "        reconstruction_adjacency, reconstruction_features = self(mol_features,\n",
    "                                                                training=False)\n",
    "        total_loss = self.calculate_loss(z_log_var,\n",
    "                                        z_mean,\n",
    "                                        mol_property, \n",
    "                                        property_prediction,\n",
    "                                        graph_real=mol_features,\n",
    "                                        graph_generated=[reconstruction_adjacency, \n",
    "                                                         reconstruction_features],\n",
    "                                        is_train=False)\n",
    "\n",
    "        self.val_total_loss_tracker.update_state(total_loss)\n",
    "        return {\n",
    "            \"loss\": self.val_total_loss_tracker.result()\n",
    "        }\n",
    "\n",
    "    def calculate_loss(self,\n",
    "                       z_log_var,\n",
    "                       z_mean,\n",
    "                       mol_property,\n",
    "                       property_prediction,\n",
    "                       graph_real,\n",
    "                       graph_generated,\n",
    "                       is_train):\n",
    "        adjacency_real, features_real = graph_real\n",
    "        adjacency_generated, features_generated = graph_generated\n",
    "        \n",
    "        adjacency_reconstruction_loss = tf.reduce_mean(\n",
    "                tf.reduce_sum(\n",
    "                    keras.losses.categorical_crossentropy(\n",
    "                                                        adjacency_real,\n",
    "                                                        adjacency_generated\n",
    "                                                        ),\n",
    "                                                        axis=(1,2)\n",
    "                    )\n",
    "            )\n",
    "        features_reconstruction_loss = tf.reduce_mean(\n",
    "                tf.reduce_sum(\n",
    "                    keras.losses.categorical_crossentropy(\n",
    "                                                        features_real,\n",
    "                                                        features_generated\n",
    "                                                        ),\n",
    "                                                        axis=(1)\n",
    "                    )\n",
    "            )\n",
    "        kl_loss = -0.5 * tf.reduce_sum(1 + z_log_var - tf.square(z_mean) - tf.exp(z_log_var), 1)\n",
    "        kl_loss = tf.reduce_mean(kl_loss)\n",
    "\n",
    "        property_prediction_loss = tf.reduce_mean(\n",
    "            keras.losses.binary_crossentropy(mol_property, \n",
    "                                                property_prediction)\n",
    "        )\n",
    "\n",
    "        if is_train:\n",
    "            graph_loss = self._gradient_penalty(graph_real, graph_generated)\n",
    "        else:\n",
    "            graph_loss = 0\n",
    "\n",
    "        return kl_loss + property_prediction_loss + graph_loss + adjacency_reconstruction_loss + features_reconstruction_loss\n",
    "\n",
    "    def _gradient_penalty(self, graph_real, graph_generated):\n",
    "        # Unpack graphs\n",
    "        adjacency_real, features_real = graph_real\n",
    "        adjacency_generated, features_generated = graph_generated\n",
    "\n",
    "        # Generate interpolated graphs (adjacency_interp and features_interp)\n",
    "        alpha = tf.random.uniform([self.batch_size])\n",
    "        alpha = tf.reshape(alpha, (self.batch_size, 1, 1, 1))\n",
    "        adjacency_interp = (adjacency_real * alpha) + (1 - alpha) * adjacency_generated\n",
    "        alpha = tf.reshape(alpha, (self.batch_size, 1, 1))\n",
    "        features_interp = (features_real * alpha) + (1 - alpha) * features_generated\n",
    "\n",
    "        # Compute the logits of interpolated graphs\n",
    "        with tf.GradientTape() as tape:\n",
    "            tape.watch(adjacency_interp)\n",
    "            tape.watch(features_interp)\n",
    "            _, _, logits, _,_ = self(\n",
    "                [adjacency_interp, features_interp], training=True\n",
    "            )\n",
    "\n",
    "        # Compute the gradients with respect to the interpolated graphs\n",
    "        grads = tape.gradient(logits, [adjacency_interp, features_interp])\n",
    "        # Compute the gradient penalty\n",
    "        grads_adjacency_penalty = (1 - tf.norm(grads[0], axis=1)) ** 2\n",
    "        grads_features_penalty = (1 - tf.norm(grads[1], axis=2)) ** 2\n",
    "        return tf.reduce_mean(\n",
    "            tf.reduce_mean(grads_adjacency_penalty, axis=(-2, -1))\n",
    "            + tf.reduce_mean(grads_features_penalty, axis=(-1))\n",
    "        )\n",
    "    \n",
    "    def inference(self, batch_size):\n",
    "        z = tf.random.normal((batch_size, LATENT_DIM))\n",
    "        reconstruction_adjacency, reconstruction_features = model.decoder.predict(z)\n",
    "        # obtain one-hot encoded adjacency tensor\n",
    "        adjacency = tf.argmax(reconstruction_adjacency, axis=1)\n",
    "        adjacency = tf.one_hot(adjacency, depth=BOND_DIM, axis=1)\n",
    "        # Remove potential self-loops from adjacency\n",
    "        adjacency = tf.linalg.set_diag(adjacency, tf.zeros(tf.shape(adjacency)[:-1]))\n",
    "        # obtain one-hot encoded feature tensor\n",
    "        features = tf.argmax(reconstruction_features, axis=2)\n",
    "        features = tf.one_hot(features, depth=ATOM_DIM, axis=2)\n",
    "        return [\n",
    "            graph_to_molecule([adjacency[i].numpy(), features[i].numpy()])\n",
    "            for i in range(batch_size)\n",
    "        ]\n",
    "    \n",
    "    def call(self, inputs):\n",
    "        z_mean, log_var = self.encoder(inputs)\n",
    "        z = Sampling()([z_mean, log_var])\n",
    "\n",
    "        reconstruction_adjacency, reconstruction_features = self.decoder(z)\n",
    "\n",
    "        property_prediction = self.property_prediction_layer(z_mean)\n",
    "\n",
    "        return z_mean, log_var, property_prediction, reconstruction_adjacency, reconstruction_features"
   ]
  },
  {
   "cell_type": "markdown",
   "id": "fc80469e",
   "metadata": {
    "id": "TWT2Bceh5yn3",
    "papermill": {
     "duration": 0.027567,
     "end_time": "2022-03-28T10:31:29.625813",
     "exception": false,
     "start_time": "2022-03-28T10:31:29.598246",
     "status": "completed"
    },
    "tags": []
   },
   "source": [
    "## Train the model"
   ]
  },
  {
   "cell_type": "code",
   "execution_count": 26,
   "id": "e1abb1e3",
   "metadata": {
    "id": "EiMF14LUDc32",
    "papermill": {
     "duration": 0.036225,
     "end_time": "2022-03-28T10:31:29.689736",
     "exception": false,
     "start_time": "2022-03-28T10:31:29.653511",
     "status": "completed"
    },
    "tags": []
   },
   "outputs": [],
   "source": [
    "train_loader = DataGenerator(\n",
    "    data=train_df[:8000],\n",
    "    mapping = SMILE_to_index, \n",
    "    max_len = NUM_ATOMS,\n",
    "    batch_size=BATCH_SIZE\n",
    ")\n",
    "\n",
    "validation_loader = DataGenerator(\n",
    "    data=test_df[:8000],\n",
    "    mapping = SMILE_to_index, \n",
    "    max_len = NUM_ATOMS,\n",
    "    batch_size=BATCH_SIZE\n",
    "    )"
   ]
  },
  {
   "cell_type": "code",
   "execution_count": 27,
   "id": "042c5344",
   "metadata": {
    "id": "K8UyJdg8HfxT",
    "outputId": "86225971-a04b-4a02-a3c3-eaab04cf191a",
    "papermill": {
     "duration": 380.350703,
     "end_time": "2022-03-28T10:37:50.068282",
     "exception": false,
     "start_time": "2022-03-28T10:31:29.717579",
     "status": "completed"
    },
    "tags": []
   },
   "outputs": [
    {
     "ename": "ValueError",
     "evalue": "A KerasTensor cannot be used as input to a TensorFlow function. A KerasTensor is a symbolic placeholder for a shape and dtype, used when constructing Keras Functional models or Keras Functions. You can only use it as input to a Keras layer or a Keras operation (from the namespaces `keras.layers` and `keras.operations`). You are likely doing something like:\n\n```\nx = Input(...)\n...\ntf_fn(x)  # Invalid.\n```\n\nWhat you should do instead is wrap `tf_fn` in a layer:\n\n```\nclass MyLayer(Layer):\n    def call(self, x):\n        return tf_fn(x)\n\nx = MyLayer()(x)\n```\n",
     "output_type": "error",
     "traceback": [
      "\u001b[0;31m---------------------------------------------------------------------------\u001b[0m",
      "\u001b[0;31mValueError\u001b[0m                                Traceback (most recent call last)",
      "Cell \u001b[0;32mIn[27], line 13\u001b[0m\n\u001b[1;32m      1\u001b[0m vae_optimizer \u001b[38;5;241m=\u001b[39m tf\u001b[38;5;241m.\u001b[39mkeras\u001b[38;5;241m.\u001b[39moptimizers\u001b[38;5;241m.\u001b[39mAdam(\n\u001b[1;32m      2\u001b[0m     learning_rate\u001b[38;5;241m=\u001b[39mVAE_LR\n\u001b[1;32m      3\u001b[0m )\n\u001b[1;32m      5\u001b[0m encoder \u001b[38;5;241m=\u001b[39m get_encoder(\n\u001b[1;32m      6\u001b[0m     gconv_units\u001b[38;5;241m=\u001b[39m[\u001b[38;5;241m9\u001b[39m],\n\u001b[1;32m      7\u001b[0m     adjacency_shape\u001b[38;5;241m=\u001b[39m(BOND_DIM, NUM_ATOMS, NUM_ATOMS),\n\u001b[0;32m   (...)\u001b[0m\n\u001b[1;32m     11\u001b[0m     dropout_rate\u001b[38;5;241m=\u001b[39m\u001b[38;5;241m0.0\u001b[39m,\n\u001b[1;32m     12\u001b[0m )\n\u001b[0;32m---> 13\u001b[0m decoder \u001b[38;5;241m=\u001b[39m \u001b[43mget_decoder\u001b[49m\u001b[43m(\u001b[49m\n\u001b[1;32m     14\u001b[0m \u001b[43m    \u001b[49m\u001b[43mdense_units\u001b[49m\u001b[38;5;241;43m=\u001b[39;49m\u001b[43m[\u001b[49m\u001b[38;5;241;43m128\u001b[39;49m\u001b[43m,\u001b[49m\u001b[43m \u001b[49m\u001b[38;5;241;43m256\u001b[39;49m\u001b[43m,\u001b[49m\u001b[43m \u001b[49m\u001b[38;5;241;43m512\u001b[39;49m\u001b[43m]\u001b[49m\u001b[43m,\u001b[49m\n\u001b[1;32m     15\u001b[0m \u001b[43m    \u001b[49m\u001b[43mdropout_rate\u001b[49m\u001b[38;5;241;43m=\u001b[39;49m\u001b[38;5;241;43m0.2\u001b[39;49m\u001b[43m,\u001b[49m\n\u001b[1;32m     16\u001b[0m \u001b[43m    \u001b[49m\u001b[43mlatent_dim\u001b[49m\u001b[38;5;241;43m=\u001b[39;49m\u001b[43mLATENT_DIM\u001b[49m\u001b[43m,\u001b[49m\n\u001b[1;32m     17\u001b[0m \u001b[43m    \u001b[49m\u001b[43madjacency_shape\u001b[49m\u001b[38;5;241;43m=\u001b[39;49m\u001b[43m(\u001b[49m\u001b[43mBOND_DIM\u001b[49m\u001b[43m,\u001b[49m\u001b[43m \u001b[49m\u001b[43mNUM_ATOMS\u001b[49m\u001b[43m,\u001b[49m\u001b[43m \u001b[49m\u001b[43mNUM_ATOMS\u001b[49m\u001b[43m)\u001b[49m\u001b[43m,\u001b[49m\n\u001b[1;32m     18\u001b[0m \u001b[43m    \u001b[49m\u001b[43mfeature_shape\u001b[49m\u001b[38;5;241;43m=\u001b[39;49m\u001b[43m(\u001b[49m\u001b[43mNUM_ATOMS\u001b[49m\u001b[43m,\u001b[49m\u001b[43m \u001b[49m\u001b[43mATOM_DIM\u001b[49m\u001b[43m)\u001b[49m\n\u001b[1;32m     19\u001b[0m \u001b[43m)\u001b[49m\n\u001b[1;32m     21\u001b[0m model \u001b[38;5;241m=\u001b[39m MoleculeGenerator(encoder, \n\u001b[1;32m     22\u001b[0m                           decoder,\n\u001b[1;32m     23\u001b[0m                           MAX_MOLSIZE)\n\u001b[1;32m     25\u001b[0m model\u001b[38;5;241m.\u001b[39mcompile(vae_optimizer)\n",
      "Cell \u001b[0;32mIn[23], line 48\u001b[0m, in \u001b[0;36mget_decoder\u001b[0;34m(dense_units, dropout_rate, latent_dim, adjacency_shape, feature_shape)\u001b[0m\n\u001b[1;32m     46\u001b[0m x_adjacency \u001b[38;5;241m=\u001b[39m keras\u001b[38;5;241m.\u001b[39mlayers\u001b[38;5;241m.\u001b[39mReshape(adjacency_shape)(x_adjacency)\n\u001b[1;32m     47\u001b[0m \u001b[38;5;66;03m# Symmetrify tensors in the last two dimensions\u001b[39;00m\n\u001b[0;32m---> 48\u001b[0m x_adjacency \u001b[38;5;241m=\u001b[39m (x_adjacency \u001b[38;5;241m+\u001b[39m \u001b[43mtf\u001b[49m\u001b[38;5;241;43m.\u001b[39;49m\u001b[43mtranspose\u001b[49m\u001b[43m(\u001b[49m\u001b[43mx_adjacency\u001b[49m\u001b[43m,\u001b[49m\u001b[43m \u001b[49m\u001b[43m(\u001b[49m\u001b[38;5;241;43m0\u001b[39;49m\u001b[43m,\u001b[49m\u001b[43m \u001b[49m\u001b[38;5;241;43m1\u001b[39;49m\u001b[43m,\u001b[49m\u001b[43m \u001b[49m\u001b[38;5;241;43m3\u001b[39;49m\u001b[43m,\u001b[49m\u001b[43m \u001b[49m\u001b[38;5;241;43m2\u001b[39;49m\u001b[43m)\u001b[49m\u001b[43m)\u001b[49m) \u001b[38;5;241m/\u001b[39m \u001b[38;5;241m2\u001b[39m\n\u001b[1;32m     49\u001b[0m x_adjacency \u001b[38;5;241m=\u001b[39m keras\u001b[38;5;241m.\u001b[39mlayers\u001b[38;5;241m.\u001b[39mSoftmax(axis\u001b[38;5;241m=\u001b[39m\u001b[38;5;241m1\u001b[39m)(x_adjacency)\n\u001b[1;32m     51\u001b[0m \u001b[38;5;66;03m# Map outputs of previous layer (x) to [continuous] feature tensors (x_features)\u001b[39;00m\n",
      "File \u001b[0;32m~/.conda/envs/research/lib/python3.9/site-packages/tensorflow/python/ops/weak_tensor_ops.py:88\u001b[0m, in \u001b[0;36mweak_tensor_unary_op_wrapper.<locals>.wrapper\u001b[0;34m(*args, **kwargs)\u001b[0m\n\u001b[1;32m     86\u001b[0m \u001b[38;5;28;01mdef\u001b[39;00m\u001b[38;5;250m \u001b[39m\u001b[38;5;21mwrapper\u001b[39m(\u001b[38;5;241m*\u001b[39margs, \u001b[38;5;241m*\u001b[39m\u001b[38;5;241m*\u001b[39mkwargs):\n\u001b[1;32m     87\u001b[0m   \u001b[38;5;28;01mif\u001b[39;00m \u001b[38;5;129;01mnot\u001b[39;00m ops\u001b[38;5;241m.\u001b[39mis_auto_dtype_conversion_enabled():\n\u001b[0;32m---> 88\u001b[0m     \u001b[38;5;28;01mreturn\u001b[39;00m \u001b[43mop\u001b[49m\u001b[43m(\u001b[49m\u001b[38;5;241;43m*\u001b[39;49m\u001b[43margs\u001b[49m\u001b[43m,\u001b[49m\u001b[43m \u001b[49m\u001b[38;5;241;43m*\u001b[39;49m\u001b[38;5;241;43m*\u001b[39;49m\u001b[43mkwargs\u001b[49m\u001b[43m)\u001b[49m\n\u001b[1;32m     89\u001b[0m   bound_arguments \u001b[38;5;241m=\u001b[39m signature\u001b[38;5;241m.\u001b[39mbind(\u001b[38;5;241m*\u001b[39margs, \u001b[38;5;241m*\u001b[39m\u001b[38;5;241m*\u001b[39mkwargs)\n\u001b[1;32m     90\u001b[0m   bound_arguments\u001b[38;5;241m.\u001b[39mapply_defaults()\n",
      "File \u001b[0;32m~/.conda/envs/research/lib/python3.9/site-packages/tensorflow/python/util/traceback_utils.py:153\u001b[0m, in \u001b[0;36mfilter_traceback.<locals>.error_handler\u001b[0;34m(*args, **kwargs)\u001b[0m\n\u001b[1;32m    151\u001b[0m \u001b[38;5;28;01mexcept\u001b[39;00m \u001b[38;5;167;01mException\u001b[39;00m \u001b[38;5;28;01mas\u001b[39;00m e:\n\u001b[1;32m    152\u001b[0m   filtered_tb \u001b[38;5;241m=\u001b[39m _process_traceback_frames(e\u001b[38;5;241m.\u001b[39m__traceback__)\n\u001b[0;32m--> 153\u001b[0m   \u001b[38;5;28;01mraise\u001b[39;00m e\u001b[38;5;241m.\u001b[39mwith_traceback(filtered_tb) \u001b[38;5;28;01mfrom\u001b[39;00m\u001b[38;5;250m \u001b[39m\u001b[38;5;28;01mNone\u001b[39;00m\n\u001b[1;32m    154\u001b[0m \u001b[38;5;28;01mfinally\u001b[39;00m:\n\u001b[1;32m    155\u001b[0m   \u001b[38;5;28;01mdel\u001b[39;00m filtered_tb\n",
      "File \u001b[0;32m~/.conda/envs/research/lib/python3.9/site-packages/keras/src/backend/common/keras_tensor.py:138\u001b[0m, in \u001b[0;36mKerasTensor.__tf_tensor__\u001b[0;34m(self, dtype, name)\u001b[0m\n\u001b[1;32m    137\u001b[0m \u001b[38;5;28;01mdef\u001b[39;00m\u001b[38;5;250m \u001b[39m\u001b[38;5;21m__tf_tensor__\u001b[39m(\u001b[38;5;28mself\u001b[39m, dtype\u001b[38;5;241m=\u001b[39m\u001b[38;5;28;01mNone\u001b[39;00m, name\u001b[38;5;241m=\u001b[39m\u001b[38;5;28;01mNone\u001b[39;00m):\n\u001b[0;32m--> 138\u001b[0m     \u001b[38;5;28;01mraise\u001b[39;00m \u001b[38;5;167;01mValueError\u001b[39;00m(\n\u001b[1;32m    139\u001b[0m         \u001b[38;5;124m\"\u001b[39m\u001b[38;5;124mA KerasTensor cannot be used as input to a TensorFlow function. \u001b[39m\u001b[38;5;124m\"\u001b[39m\n\u001b[1;32m    140\u001b[0m         \u001b[38;5;124m\"\u001b[39m\u001b[38;5;124mA KerasTensor is a symbolic placeholder for a shape and dtype, \u001b[39m\u001b[38;5;124m\"\u001b[39m\n\u001b[1;32m    141\u001b[0m         \u001b[38;5;124m\"\u001b[39m\u001b[38;5;124mused when constructing Keras Functional models \u001b[39m\u001b[38;5;124m\"\u001b[39m\n\u001b[1;32m    142\u001b[0m         \u001b[38;5;124m\"\u001b[39m\u001b[38;5;124mor Keras Functions. You can only use it as input to a Keras layer \u001b[39m\u001b[38;5;124m\"\u001b[39m\n\u001b[1;32m    143\u001b[0m         \u001b[38;5;124m\"\u001b[39m\u001b[38;5;124mor a Keras operation (from the namespaces `keras.layers` \u001b[39m\u001b[38;5;124m\"\u001b[39m\n\u001b[1;32m    144\u001b[0m         \u001b[38;5;124m\"\u001b[39m\u001b[38;5;124mand `keras.operations`). \u001b[39m\u001b[38;5;124m\"\u001b[39m\n\u001b[1;32m    145\u001b[0m         \u001b[38;5;124m\"\u001b[39m\u001b[38;5;124mYou are likely doing something like:\u001b[39m\u001b[38;5;130;01m\\n\u001b[39;00m\u001b[38;5;130;01m\\n\u001b[39;00m\u001b[38;5;124m\"\u001b[39m\n\u001b[1;32m    146\u001b[0m         \u001b[38;5;124m\"\u001b[39m\u001b[38;5;124m```\u001b[39m\u001b[38;5;130;01m\\n\u001b[39;00m\u001b[38;5;124m\"\u001b[39m\n\u001b[1;32m    147\u001b[0m         \u001b[38;5;124m\"\u001b[39m\u001b[38;5;124mx = Input(...)\u001b[39m\u001b[38;5;130;01m\\n\u001b[39;00m\u001b[38;5;124m\"\u001b[39m\n\u001b[1;32m    148\u001b[0m         \u001b[38;5;124m\"\u001b[39m\u001b[38;5;124m...\u001b[39m\u001b[38;5;130;01m\\n\u001b[39;00m\u001b[38;5;124m\"\u001b[39m\n\u001b[1;32m    149\u001b[0m         \u001b[38;5;124m\"\u001b[39m\u001b[38;5;124mtf_fn(x)  # Invalid.\u001b[39m\u001b[38;5;130;01m\\n\u001b[39;00m\u001b[38;5;124m\"\u001b[39m\n\u001b[1;32m    150\u001b[0m         \u001b[38;5;124m\"\u001b[39m\u001b[38;5;124m```\u001b[39m\u001b[38;5;130;01m\\n\u001b[39;00m\u001b[38;5;130;01m\\n\u001b[39;00m\u001b[38;5;124m\"\u001b[39m\n\u001b[1;32m    151\u001b[0m         \u001b[38;5;124m\"\u001b[39m\u001b[38;5;124mWhat you should do instead is wrap `tf_fn` in a layer:\u001b[39m\u001b[38;5;130;01m\\n\u001b[39;00m\u001b[38;5;130;01m\\n\u001b[39;00m\u001b[38;5;124m\"\u001b[39m\n\u001b[1;32m    152\u001b[0m         \u001b[38;5;124m\"\u001b[39m\u001b[38;5;124m```\u001b[39m\u001b[38;5;130;01m\\n\u001b[39;00m\u001b[38;5;124m\"\u001b[39m\n\u001b[1;32m    153\u001b[0m         \u001b[38;5;124m\"\u001b[39m\u001b[38;5;124mclass MyLayer(Layer):\u001b[39m\u001b[38;5;130;01m\\n\u001b[39;00m\u001b[38;5;124m\"\u001b[39m\n\u001b[1;32m    154\u001b[0m         \u001b[38;5;124m\"\u001b[39m\u001b[38;5;124m    def call(self, x):\u001b[39m\u001b[38;5;130;01m\\n\u001b[39;00m\u001b[38;5;124m\"\u001b[39m\n\u001b[1;32m    155\u001b[0m         \u001b[38;5;124m\"\u001b[39m\u001b[38;5;124m        return tf_fn(x)\u001b[39m\u001b[38;5;130;01m\\n\u001b[39;00m\u001b[38;5;130;01m\\n\u001b[39;00m\u001b[38;5;124m\"\u001b[39m\n\u001b[1;32m    156\u001b[0m         \u001b[38;5;124m\"\u001b[39m\u001b[38;5;124mx = MyLayer()(x)\u001b[39m\u001b[38;5;130;01m\\n\u001b[39;00m\u001b[38;5;124m\"\u001b[39m\n\u001b[1;32m    157\u001b[0m         \u001b[38;5;124m\"\u001b[39m\u001b[38;5;124m```\u001b[39m\u001b[38;5;130;01m\\n\u001b[39;00m\u001b[38;5;124m\"\u001b[39m\n\u001b[1;32m    158\u001b[0m     )\n",
      "\u001b[0;31mValueError\u001b[0m: A KerasTensor cannot be used as input to a TensorFlow function. A KerasTensor is a symbolic placeholder for a shape and dtype, used when constructing Keras Functional models or Keras Functions. You can only use it as input to a Keras layer or a Keras operation (from the namespaces `keras.layers` and `keras.operations`). You are likely doing something like:\n\n```\nx = Input(...)\n...\ntf_fn(x)  # Invalid.\n```\n\nWhat you should do instead is wrap `tf_fn` in a layer:\n\n```\nclass MyLayer(Layer):\n    def call(self, x):\n        return tf_fn(x)\n\nx = MyLayer()(x)\n```\n"
     ]
    }
   ],
   "source": [
    "vae_optimizer = tf.keras.optimizers.Adam(\n",
    "    learning_rate=VAE_LR\n",
    ")\n",
    "\n",
    "encoder = get_encoder(\n",
    "    gconv_units=[9],\n",
    "    adjacency_shape=(BOND_DIM, NUM_ATOMS, NUM_ATOMS),\n",
    "    feature_shape=(NUM_ATOMS, ATOM_DIM),\n",
    "    latent_dim=LATENT_DIM,\n",
    "    dense_units=[512],\n",
    "    dropout_rate=0.0,\n",
    ")\n",
    "decoder = get_decoder(\n",
    "    dense_units=[128, 256, 512],\n",
    "    dropout_rate=0.2,\n",
    "    latent_dim=LATENT_DIM,\n",
    "    adjacency_shape=(BOND_DIM, NUM_ATOMS, NUM_ATOMS),\n",
    "    feature_shape=(NUM_ATOMS, ATOM_DIM)\n",
    ")\n",
    "\n",
    "model = MoleculeGenerator(encoder, \n",
    "                          decoder,\n",
    "                          MAX_MOLSIZE)\n",
    "\n",
    "model.compile(vae_optimizer)\n",
    "history = model.fit(train_loader,\n",
    "                    epochs=EPOCHS,\n",
    "                    validation_data=validation_loader)"
   ]
  },
  {
   "cell_type": "code",
   "execution_count": 17,
   "id": "dc9f6319",
   "metadata": {
    "execution": {
     "iopub.execute_input": "2022-03-28T10:37:51.777271Z",
     "iopub.status.busy": "2022-03-28T10:37:51.774098Z",
     "iopub.status.idle": "2022-03-28T10:37:51.971728Z",
     "shell.execute_reply": "2022-03-28T10:37:51.972356Z",
     "shell.execute_reply.started": "2022-03-27T14:57:13.897611Z"
    },
    "id": "RaEQJCNB2Gjh",
    "outputId": "90670ff4-20f8-4593-be08-c4507409ac90",
    "papermill": {
     "duration": 1.053027,
     "end_time": "2022-03-28T10:37:51.972530",
     "exception": false,
     "start_time": "2022-03-28T10:37:50.919503",
     "status": "completed"
    },
    "tags": []
   },
   "outputs": [
    {
     "data": {
      "image/png": "[encoded data removed]",
      "text/plain": [
       "<Figure size 432x288 with 1 Axes>"
      ]
     },
     "metadata": {
      "needs_background": "light"
     },
     "output_type": "display_data"
    }
   ],
   "source": [
    "plt.plot(history.history['loss'])\n",
    "plt.plot(history.history['val_loss'])\n",
    "plt.title('VAE Loss')\n",
    "plt.ylabel('Loss')\n",
    "plt.xlabel('epoch')\n",
    "plt.legend(['train', 'val'], loc='upper left')\n",
    "plt.show()"
   ]
  },
  {
   "cell_type": "markdown",
   "id": "fadc626f",
   "metadata": {
    "id": "f9VTrM04-hcP",
    "papermill": {
     "duration": 0.906848,
     "end_time": "2022-03-28T10:37:53.741451",
     "exception": false,
     "start_time": "2022-03-28T10:37:52.834603",
     "status": "completed"
    },
    "tags": []
   },
   "source": [
    "## Model Inferencing\n",
    "\n",
    "We would be inferring our model to predict over random latent space and try to generate 100 new valid molecules."
   ]
  },
  {
   "cell_type": "markdown",
   "id": "bee36ff6",
   "metadata": {
    "id": "hicuVsE6-o8c",
    "papermill": {
     "duration": 0.858124,
     "end_time": "2022-03-28T10:37:55.452351",
     "exception": false,
     "start_time": "2022-03-28T10:37:54.594227",
     "status": "completed"
    },
    "tags": []
   },
   "source": [
    "### Generate unique Molecules with the model"
   ]
  },
  {
   "cell_type": "code",
   "execution_count": 18,
   "id": "f80f424a",
   "metadata": {
    "execution": {
     "iopub.execute_input": "2022-03-28T10:37:57.165180Z",
     "iopub.status.busy": "2022-03-28T10:37:57.164361Z",
     "iopub.status.idle": "2022-03-28T10:38:03.280232Z",
     "shell.execute_reply": "2022-03-28T10:38:03.280654Z",
     "shell.execute_reply.started": "2022-03-27T14:57:14.121509Z"
    },
    "papermill": {
     "duration": 6.974075,
     "end_time": "2022-03-28T10:38:03.280802",
     "exception": false,
     "start_time": "2022-03-28T10:37:56.306727",
     "status": "completed"
    },
    "tags": []
   },
   "outputs": [
    {
     "data": {
      "image/png": "[encoded data removed]",
      "text/plain": [
       "<IPython.core.display.Image object>"
      ]
     },
     "execution_count": 18,
     "metadata": {},
     "output_type": "execute_result"
    }
   ],
   "source": [
    "molecules = model.inference(1000)\n",
    "\n",
    "MolsToGridImage(\n",
    "    [m for m in molecules if m is not None][:1000], molsPerRow=5, subImgSize=(260, 160)\n",
    ")"
   ]
  },
  {
   "cell_type": "markdown",
   "id": "dd2ff991",
   "metadata": {
    "id": "jrINOXo1-QDa",
    "papermill": {
     "duration": 0.845823,
     "end_time": "2022-03-28T10:38:04.976918",
     "exception": false,
     "start_time": "2022-03-28T10:38:04.131095",
     "status": "completed"
    },
    "tags": []
   },
   "source": [
    "### Display latent space clusters with respect to molecular properties (SAS)"
   ]
  },
  {
   "cell_type": "code",
   "execution_count": 19,
   "id": "4e5f6773",
   "metadata": {
    "execution": {
     "iopub.execute_input": "2022-03-28T10:38:06.676710Z",
     "iopub.status.busy": "2022-03-28T10:38:06.675934Z",
     "iopub.status.idle": "2022-03-28T10:38:27.302157Z",
     "shell.execute_reply": "2022-03-28T10:38:27.301713Z",
     "shell.execute_reply.started": "2022-03-27T14:57:16.304136Z"
    },
    "id": "2htjgd_AIklN",
    "papermill": {
     "duration": 21.478059,
     "end_time": "2022-03-28T10:38:27.302274",
     "exception": false,
     "start_time": "2022-03-28T10:38:05.824215",
     "status": "completed"
    },
    "tags": []
   },
   "outputs": [
    {
     "name": "stderr",
     "output_type": "stream",
     "text": [
      "2022-03-28 10:38:21.223980: W tensorflow/core/framework/cpu_allocator_impl.cc:80] Allocation of 2304000000 exceeds 10% of free system memory.\n",
      "2022-03-28 10:38:23.833758: W tensorflow/core/framework/cpu_allocator_impl.cc:80] Allocation of 2304000000 exceeds 10% of free system memory.\n"
     ]
    },
    {
     "data": {
      "image/png": "[encoded data removed]",
      "text/plain": [
       "<Figure size 864x720 with 2 Axes>"
      ]
     },
     "metadata": {
      "needs_background": "light"
     },
     "output_type": "display_data"
    }
   ],
   "source": [
    "def plot_label_clusters(vae, data, labels):\n",
    "    # display a 2D plot of the property in the latent space\n",
    "    z_mean, _ = vae.encoder.predict(data)\n",
    "    plt.figure(figsize=(12, 10))\n",
    "    plt.scatter(z_mean[:, 0], z_mean[:, 1], c=labels)\n",
    "    plt.colorbar()\n",
    "    plt.xlabel(\"z[0]\")\n",
    "    plt.ylabel(\"z[1]\")\n",
    "    plt.show()\n",
    "\n",
    "\n",
    "train_data = DataGenerator(\n",
    "                            data=train_df,\n",
    "                            mapping = SMILE_to_index, \n",
    "                            max_len = NUM_ATOMS,\n",
    "                            batch_size=8000\n",
    "                        )\n",
    "x_train, y_train = next(iter(train_data))\n",
    "plot_label_clusters(model, x_train, y_train)"
   ]
  },
  {
   "cell_type": "markdown",
   "id": "0843de08",
   "metadata": {
    "papermill": {
     "duration": 0.85701,
     "end_time": "2022-03-28T10:38:29.014490",
     "exception": false,
     "start_time": "2022-03-28T10:38:28.157480",
     "status": "completed"
    },
    "tags": []
   },
   "source": [
    "## Conclusion\n",
    "In this example, we combined model architectures from two papers,\n",
    "\"Automatic chemical design using a data-driven continuous representation of\n",
    "molecules\" from 2016 and the \"MolGAN\" paper from 2018. The former paper\n",
    "treats SMILES inputs as strings and seeks to generate molecule strings in SMILES format,\n",
    "while the later paper considers SMILES inputs as graphs (a combination of adjacency\n",
    "matrices and feature matrices) and seeks to generate molecules as graphs.\n",
    "This hybrid approach enables a new type of directed gradient-based search through chemical space."
   ]
  },
  {
   "cell_type": "code",
   "execution_count": null,
   "id": "0c220d61",
   "metadata": {
    "id": "nqtGplkGvPST",
    "papermill": {
     "duration": 0.8466,
     "end_time": "2022-03-28T10:38:30.706812",
     "exception": false,
     "start_time": "2022-03-28T10:38:29.860212",
     "status": "completed"
    },
    "tags": []
   },
   "outputs": [],
   "source": []
  }
 ],
 "metadata": {
  "kernelspec": {
   "display_name": "Python (research)",
   "language": "python",
   "name": "research"
  },
  "language_info": {
   "codemirror_mode": {
    "name": "ipython",
    "version": 3
   },
   "file_extension": ".py",
   "mimetype": "text/x-python",
   "name": "python",
   "nbconvert_exporter": "python",
   "pygments_lexer": "ipython3",
   "version": "3.9.21"
  },
  "papermill": {
   "default_parameters": {},
   "duration": 451.695384,
   "end_time": "2022-03-28T10:38:34.884667",
   "environment_variables": {},
   "exception": null,
   "input_path": "__notebook__.ipynb",
   "output_path": "__notebook__.ipynb",
   "parameters": {},
   "start_time": "2022-03-28T10:31:03.189283",
   "version": "2.3.3"
  }
 },
 "nbformat": 4,
 "nbformat_minor": 5
}
