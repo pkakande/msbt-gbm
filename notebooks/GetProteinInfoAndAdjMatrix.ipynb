{
 "cells": [
  {
   "cell_type": "code",
   "execution_count": 1,
   "id": "215b876f",
   "metadata": {},
   "outputs": [],
   "source": [
    "import io\n",
    "import requests\n",
    "import gzip\n",
    "import shutil\n",
    "import pandas as pd\n",
    "import numpy as np"
   ]
  },
  {
   "cell_type": "code",
   "execution_count": 2,
   "id": "fb83e978",
   "metadata": {},
   "outputs": [
    {
     "name": "stdout",
     "output_type": "stream",
     "text": [
      "File downloaded successfully\n"
     ]
    }
   ],
   "source": [
    "# URL of the file you want to download\n",
    "url = 'https://stringdb-downloads.org/download/protein.links.v12.0/9606.protein.links.v12.0.txt.gz'\n",
    "\n",
    "# Send a GET request to the URL\n",
    "response = requests.get(url)\n",
    "\n",
    "# Save the content to a file\n",
    "with open('../data/netics_inputs/raw/protein_info.v12.txt.gz', 'wb') as file:\n",
    "    file.write(response.content)\n",
    "\n",
    "print(\"File downloaded successfully\")"
   ]
  },
  {
   "cell_type": "code",
   "execution_count": 3,
   "id": "7b64eebe",
   "metadata": {},
   "outputs": [
    {
     "name": "stdout",
     "output_type": "stream",
     "text": [
      "File unzipped successfully\n"
     ]
    }
   ],
   "source": [
    "# Path to the .gz file\n",
    "gz_file_path = '../data/netics_inputs/raw/protein_info.v12.txt.gz'\n",
    "\n",
    "# Path to extract the contents\n",
    "output_file_path = '../data/netics_inputs/raw/protein_info.v12.txt'\n",
    "\n",
    "# Open the .gz file and extract its contents\n",
    "with gzip.open(gz_file_path, 'rb') as f_in:\n",
    "    with open(output_file_path, 'wb') as f_out:\n",
    "        shutil.copyfileobj(f_in, f_out)\n",
    "\n",
    "print(\"File unzipped successfully\")"
   ]
  },
  {
   "cell_type": "markdown",
   "id": "bdc697fb",
   "metadata": {},
   "source": [
    "#### Construct adjacency matrix"
   ]
  },
  {
   "cell_type": "code",
   "execution_count": 4,
   "id": "95598ef3",
   "metadata": {},
   "outputs": [],
   "source": [
    "# Load interaction data\n",
    "interaction_data = pd.read_csv('../data/netics_inputs/raw/protein_info.v12.txt', sep=' ')"
   ]
  },
  {
   "cell_type": "code",
   "execution_count": 5,
   "id": "830038d7",
   "metadata": {},
   "outputs": [
    {
     "data": {
      "text/html": [
       "<div>\n",
       "<style scoped>\n",
       "    .dataframe tbody tr th:only-of-type {\n",
       "        vertical-align: middle;\n",
       "    }\n",
       "\n",
       "    .dataframe tbody tr th {\n",
       "        vertical-align: top;\n",
       "    }\n",
       "\n",
       "    .dataframe thead th {\n",
       "        text-align: right;\n",
       "    }\n",
       "</style>\n",
       "<table border=\"1\" class=\"dataframe\">\n",
       "  <thead>\n",
       "    <tr style=\"text-align: right;\">\n",
       "      <th></th>\n",
       "      <th>protein1</th>\n",
       "      <th>protein2</th>\n",
       "      <th>combined_score</th>\n",
       "    </tr>\n",
       "  </thead>\n",
       "  <tbody>\n",
       "    <tr>\n",
       "      <th>0</th>\n",
       "      <td>9606.ENSP00000000233</td>\n",
       "      <td>9606.ENSP00000356607</td>\n",
       "      <td>173</td>\n",
       "    </tr>\n",
       "    <tr>\n",
       "      <th>1</th>\n",
       "      <td>9606.ENSP00000000233</td>\n",
       "      <td>9606.ENSP00000427567</td>\n",
       "      <td>154</td>\n",
       "    </tr>\n",
       "    <tr>\n",
       "      <th>2</th>\n",
       "      <td>9606.ENSP00000000233</td>\n",
       "      <td>9606.ENSP00000253413</td>\n",
       "      <td>151</td>\n",
       "    </tr>\n",
       "    <tr>\n",
       "      <th>3</th>\n",
       "      <td>9606.ENSP00000000233</td>\n",
       "      <td>9606.ENSP00000493357</td>\n",
       "      <td>471</td>\n",
       "    </tr>\n",
       "    <tr>\n",
       "      <th>4</th>\n",
       "      <td>9606.ENSP00000000233</td>\n",
       "      <td>9606.ENSP00000324127</td>\n",
       "      <td>201</td>\n",
       "    </tr>\n",
       "  </tbody>\n",
       "</table>\n",
       "</div>"
      ],
      "text/plain": [
       "               protein1              protein2  combined_score\n",
       "0  9606.ENSP00000000233  9606.ENSP00000356607             173\n",
       "1  9606.ENSP00000000233  9606.ENSP00000427567             154\n",
       "2  9606.ENSP00000000233  9606.ENSP00000253413             151\n",
       "3  9606.ENSP00000000233  9606.ENSP00000493357             471\n",
       "4  9606.ENSP00000000233  9606.ENSP00000324127             201"
      ]
     },
     "execution_count": 5,
     "metadata": {},
     "output_type": "execute_result"
    }
   ],
   "source": [
    "interaction_data.head()"
   ]
  },
  {
   "cell_type": "code",
   "execution_count": 6,
   "id": "fdcf36f4",
   "metadata": {},
   "outputs": [
    {
     "data": {
      "text/plain": [
       "19622"
      ]
     },
     "execution_count": 6,
     "metadata": {},
     "output_type": "execute_result"
    }
   ],
   "source": [
    "interaction_data.protein1.nunique()"
   ]
  },
  {
   "cell_type": "code",
   "execution_count": 7,
   "id": "af1c1193",
   "metadata": {},
   "outputs": [
    {
     "data": {
      "text/plain": [
       "(13715404, 3)"
      ]
     },
     "execution_count": 7,
     "metadata": {},
     "output_type": "execute_result"
    }
   ],
   "source": [
    "interaction_data.shape"
   ]
  },
  {
   "cell_type": "code",
   "execution_count": 8,
   "id": "3eee17ae",
   "metadata": {},
   "outputs": [],
   "source": [
    "# Get unique proteins/genes\n",
    "proteins = list(set(interaction_data['protein1']).union(set(interaction_data['protein2'])))\n",
    "\n",
    "# Initialize adjacency matrix\n",
    "adj_matrix = np.zeros((len(proteins), len(proteins)))\n",
    "\n",
    "# Create a mapping from protein name to index\n",
    "protein_to_index = {protein: idx for idx, protein in enumerate(proteins)}\n",
    "\n",
    "# Set a maximum score for normalization (e.g., 1000)\n",
    "max_score = interaction_data['combined_score'].max()\n",
    "\n",
    "# Populate the adjacency matrix with normalized scores\n",
    "for _, row in interaction_data.iterrows():\n",
    "    normalized_score = row['combined_score'] / max_score\n",
    "    i = protein_to_index[row['protein1']]\n",
    "    j = protein_to_index[row['protein2']]\n",
    "    adj_matrix[i, j] = normalized_score\n",
    "    adj_matrix[j, i] = normalized_score  # For undirected networks\n",
    "\n",
    "# Convert to DataFrame for better visualization\n",
    "adj_matrix_df = pd.DataFrame(adj_matrix, index=proteins, columns=proteins)"
   ]
  },
  {
   "cell_type": "code",
   "execution_count": 9,
   "id": "72a0d970",
   "metadata": {},
   "outputs": [
    {
     "data": {
      "text/plain": [
       "(19622, 19622)"
      ]
     },
     "execution_count": 9,
     "metadata": {},
     "output_type": "execute_result"
    }
   ],
   "source": [
    "adj_matrix_df.shape"
   ]
  },
  {
   "cell_type": "code",
   "execution_count": 10,
   "id": "480afa04",
   "metadata": {},
   "outputs": [
    {
     "data": {
      "text/html": [
       "<div>\n",
       "<style scoped>\n",
       "    .dataframe tbody tr th:only-of-type {\n",
       "        vertical-align: middle;\n",
       "    }\n",
       "\n",
       "    .dataframe tbody tr th {\n",
       "        vertical-align: top;\n",
       "    }\n",
       "\n",
       "    .dataframe thead th {\n",
       "        text-align: right;\n",
       "    }\n",
       "</style>\n",
       "<table border=\"1\" class=\"dataframe\">\n",
       "  <thead>\n",
       "    <tr style=\"text-align: right;\">\n",
       "      <th></th>\n",
       "      <th>9606.ENSP00000292609</th>\n",
       "      <th>9606.ENSP00000428968</th>\n",
       "      <th>9606.ENSP00000370546</th>\n",
       "      <th>9606.ENSP00000497550</th>\n",
       "      <th>9606.ENSP00000475344</th>\n",
       "      <th>9606.ENSP00000315569</th>\n",
       "      <th>9606.ENSP00000358022</th>\n",
       "      <th>9606.ENSP00000448012</th>\n",
       "      <th>9606.ENSP00000359581</th>\n",
       "      <th>9606.ENSP00000372313</th>\n",
       "      <th>...</th>\n",
       "      <th>9606.ENSP00000297591</th>\n",
       "      <th>9606.ENSP00000426909</th>\n",
       "      <th>9606.ENSP00000301061</th>\n",
       "      <th>9606.ENSP00000271332</th>\n",
       "      <th>9606.ENSP00000301891</th>\n",
       "      <th>9606.ENSP00000336762</th>\n",
       "      <th>9606.ENSP00000357336</th>\n",
       "      <th>9606.ENSP00000361700</th>\n",
       "      <th>9606.ENSP00000367747</th>\n",
       "      <th>9606.ENSP00000304071</th>\n",
       "    </tr>\n",
       "  </thead>\n",
       "  <tbody>\n",
       "    <tr>\n",
       "      <th>9606.ENSP00000292609</th>\n",
       "      <td>0.0</td>\n",
       "      <td>0.0</td>\n",
       "      <td>0.0</td>\n",
       "      <td>0.0</td>\n",
       "      <td>0.0</td>\n",
       "      <td>0.0</td>\n",
       "      <td>0.0</td>\n",
       "      <td>0.000000</td>\n",
       "      <td>0.0</td>\n",
       "      <td>0.000000</td>\n",
       "      <td>...</td>\n",
       "      <td>0.0</td>\n",
       "      <td>0.0</td>\n",
       "      <td>0.0</td>\n",
       "      <td>0.0</td>\n",
       "      <td>0.0</td>\n",
       "      <td>0.0</td>\n",
       "      <td>0.0</td>\n",
       "      <td>0.0</td>\n",
       "      <td>0.0</td>\n",
       "      <td>0.0</td>\n",
       "    </tr>\n",
       "    <tr>\n",
       "      <th>9606.ENSP00000428968</th>\n",
       "      <td>0.0</td>\n",
       "      <td>0.0</td>\n",
       "      <td>0.0</td>\n",
       "      <td>0.0</td>\n",
       "      <td>0.0</td>\n",
       "      <td>0.0</td>\n",
       "      <td>0.0</td>\n",
       "      <td>0.000000</td>\n",
       "      <td>0.0</td>\n",
       "      <td>0.000000</td>\n",
       "      <td>...</td>\n",
       "      <td>0.0</td>\n",
       "      <td>0.0</td>\n",
       "      <td>0.0</td>\n",
       "      <td>0.0</td>\n",
       "      <td>0.0</td>\n",
       "      <td>0.0</td>\n",
       "      <td>0.0</td>\n",
       "      <td>0.0</td>\n",
       "      <td>0.0</td>\n",
       "      <td>0.0</td>\n",
       "    </tr>\n",
       "    <tr>\n",
       "      <th>9606.ENSP00000370546</th>\n",
       "      <td>0.0</td>\n",
       "      <td>0.0</td>\n",
       "      <td>0.0</td>\n",
       "      <td>0.0</td>\n",
       "      <td>0.0</td>\n",
       "      <td>0.0</td>\n",
       "      <td>0.0</td>\n",
       "      <td>0.000000</td>\n",
       "      <td>0.0</td>\n",
       "      <td>0.000000</td>\n",
       "      <td>...</td>\n",
       "      <td>0.0</td>\n",
       "      <td>0.0</td>\n",
       "      <td>0.0</td>\n",
       "      <td>0.0</td>\n",
       "      <td>0.0</td>\n",
       "      <td>0.0</td>\n",
       "      <td>0.0</td>\n",
       "      <td>0.0</td>\n",
       "      <td>0.0</td>\n",
       "      <td>0.0</td>\n",
       "    </tr>\n",
       "    <tr>\n",
       "      <th>9606.ENSP00000497550</th>\n",
       "      <td>0.0</td>\n",
       "      <td>0.0</td>\n",
       "      <td>0.0</td>\n",
       "      <td>0.0</td>\n",
       "      <td>0.0</td>\n",
       "      <td>0.0</td>\n",
       "      <td>0.0</td>\n",
       "      <td>0.518519</td>\n",
       "      <td>0.0</td>\n",
       "      <td>0.255255</td>\n",
       "      <td>...</td>\n",
       "      <td>0.0</td>\n",
       "      <td>0.0</td>\n",
       "      <td>0.0</td>\n",
       "      <td>0.0</td>\n",
       "      <td>0.0</td>\n",
       "      <td>0.0</td>\n",
       "      <td>0.0</td>\n",
       "      <td>0.0</td>\n",
       "      <td>0.0</td>\n",
       "      <td>0.0</td>\n",
       "    </tr>\n",
       "    <tr>\n",
       "      <th>9606.ENSP00000475344</th>\n",
       "      <td>0.0</td>\n",
       "      <td>0.0</td>\n",
       "      <td>0.0</td>\n",
       "      <td>0.0</td>\n",
       "      <td>0.0</td>\n",
       "      <td>0.0</td>\n",
       "      <td>0.0</td>\n",
       "      <td>0.000000</td>\n",
       "      <td>0.0</td>\n",
       "      <td>0.000000</td>\n",
       "      <td>...</td>\n",
       "      <td>0.0</td>\n",
       "      <td>0.0</td>\n",
       "      <td>0.0</td>\n",
       "      <td>0.0</td>\n",
       "      <td>0.0</td>\n",
       "      <td>0.0</td>\n",
       "      <td>0.0</td>\n",
       "      <td>0.0</td>\n",
       "      <td>0.0</td>\n",
       "      <td>0.0</td>\n",
       "    </tr>\n",
       "  </tbody>\n",
       "</table>\n",
       "<p>5 rows × 19622 columns</p>\n",
       "</div>"
      ],
      "text/plain": [
       "                      9606.ENSP00000292609  9606.ENSP00000428968  \\\n",
       "9606.ENSP00000292609                   0.0                   0.0   \n",
       "9606.ENSP00000428968                   0.0                   0.0   \n",
       "9606.ENSP00000370546                   0.0                   0.0   \n",
       "9606.ENSP00000497550                   0.0                   0.0   \n",
       "9606.ENSP00000475344                   0.0                   0.0   \n",
       "\n",
       "                      9606.ENSP00000370546  9606.ENSP00000497550  \\\n",
       "9606.ENSP00000292609                   0.0                   0.0   \n",
       "9606.ENSP00000428968                   0.0                   0.0   \n",
       "9606.ENSP00000370546                   0.0                   0.0   \n",
       "9606.ENSP00000497550                   0.0                   0.0   \n",
       "9606.ENSP00000475344                   0.0                   0.0   \n",
       "\n",
       "                      9606.ENSP00000475344  9606.ENSP00000315569  \\\n",
       "9606.ENSP00000292609                   0.0                   0.0   \n",
       "9606.ENSP00000428968                   0.0                   0.0   \n",
       "9606.ENSP00000370546                   0.0                   0.0   \n",
       "9606.ENSP00000497550                   0.0                   0.0   \n",
       "9606.ENSP00000475344                   0.0                   0.0   \n",
       "\n",
       "                      9606.ENSP00000358022  9606.ENSP00000448012  \\\n",
       "9606.ENSP00000292609                   0.0              0.000000   \n",
       "9606.ENSP00000428968                   0.0              0.000000   \n",
       "9606.ENSP00000370546                   0.0              0.000000   \n",
       "9606.ENSP00000497550                   0.0              0.518519   \n",
       "9606.ENSP00000475344                   0.0              0.000000   \n",
       "\n",
       "                      9606.ENSP00000359581  9606.ENSP00000372313  ...  \\\n",
       "9606.ENSP00000292609                   0.0              0.000000  ...   \n",
       "9606.ENSP00000428968                   0.0              0.000000  ...   \n",
       "9606.ENSP00000370546                   0.0              0.000000  ...   \n",
       "9606.ENSP00000497550                   0.0              0.255255  ...   \n",
       "9606.ENSP00000475344                   0.0              0.000000  ...   \n",
       "\n",
       "                      9606.ENSP00000297591  9606.ENSP00000426909  \\\n",
       "9606.ENSP00000292609                   0.0                   0.0   \n",
       "9606.ENSP00000428968                   0.0                   0.0   \n",
       "9606.ENSP00000370546                   0.0                   0.0   \n",
       "9606.ENSP00000497550                   0.0                   0.0   \n",
       "9606.ENSP00000475344                   0.0                   0.0   \n",
       "\n",
       "                      9606.ENSP00000301061  9606.ENSP00000271332  \\\n",
       "9606.ENSP00000292609                   0.0                   0.0   \n",
       "9606.ENSP00000428968                   0.0                   0.0   \n",
       "9606.ENSP00000370546                   0.0                   0.0   \n",
       "9606.ENSP00000497550                   0.0                   0.0   \n",
       "9606.ENSP00000475344                   0.0                   0.0   \n",
       "\n",
       "                      9606.ENSP00000301891  9606.ENSP00000336762  \\\n",
       "9606.ENSP00000292609                   0.0                   0.0   \n",
       "9606.ENSP00000428968                   0.0                   0.0   \n",
       "9606.ENSP00000370546                   0.0                   0.0   \n",
       "9606.ENSP00000497550                   0.0                   0.0   \n",
       "9606.ENSP00000475344                   0.0                   0.0   \n",
       "\n",
       "                      9606.ENSP00000357336  9606.ENSP00000361700  \\\n",
       "9606.ENSP00000292609                   0.0                   0.0   \n",
       "9606.ENSP00000428968                   0.0                   0.0   \n",
       "9606.ENSP00000370546                   0.0                   0.0   \n",
       "9606.ENSP00000497550                   0.0                   0.0   \n",
       "9606.ENSP00000475344                   0.0                   0.0   \n",
       "\n",
       "                      9606.ENSP00000367747  9606.ENSP00000304071  \n",
       "9606.ENSP00000292609                   0.0                   0.0  \n",
       "9606.ENSP00000428968                   0.0                   0.0  \n",
       "9606.ENSP00000370546                   0.0                   0.0  \n",
       "9606.ENSP00000497550                   0.0                   0.0  \n",
       "9606.ENSP00000475344                   0.0                   0.0  \n",
       "\n",
       "[5 rows x 19622 columns]"
      ]
     },
     "execution_count": 10,
     "metadata": {},
     "output_type": "execute_result"
    }
   ],
   "source": [
    "adj_matrix_df.head()"
   ]
  },
  {
   "cell_type": "code",
   "execution_count": 11,
   "id": "3946c449",
   "metadata": {},
   "outputs": [
    {
     "name": "stdout",
     "output_type": "stream",
     "text": [
      "The size of the DataFrame as a CSV file is 1754110918 bytes.\n"
     ]
    }
   ],
   "source": [
    "# Create a StringIO object to capture CSV output in memory\n",
    "csv_buffer = io.StringIO()\n",
    "\n",
    "# Export DataFrame to CSV in memory\n",
    "adj_matrix_df.to_csv(csv_buffer, index=False)\n",
    "\n",
    "# Get the size of the CSV output in bytes\n",
    "csv_size = csv_buffer.getvalue().encode('utf-8')\n",
    "\n",
    "print(f'The size of the DataFrame as a CSV file is {len(csv_size)} bytes.')"
   ]
  },
  {
   "cell_type": "code",
   "execution_count": 12,
   "id": "98af02ab",
   "metadata": {},
   "outputs": [],
   "source": [
    "adj_matrix_df.to_csv('../data/netics_inputs/processed/adjacency_matrix_headed.csv', sep='\\t', index=False)"
   ]
  },
  {
   "cell_type": "code",
   "execution_count": 13,
   "id": "a87b8f3e-ae5b-4ecd-8c1e-45ae67c4d309",
   "metadata": {},
   "outputs": [],
   "source": [
    "adj_matrix_df.to_csv('../data/netics_inputs/processed/adjacency_matrix.csv', sep='\\t', index=False, header=False)"
   ]
  }
 ],
 "metadata": {
  "kernelspec": {
   "display_name": "Python (research)",
   "language": "python",
   "name": "research"
  },
  "language_info": {
   "codemirror_mode": {
    "name": "ipython",
    "version": 3
   },
   "file_extension": ".py",
   "mimetype": "text/x-python",
   "name": "python",
   "nbconvert_exporter": "python",
   "pygments_lexer": "ipython3",
   "version": "3.9.21"
  }
 },
 "nbformat": 4,
 "nbformat_minor": 5
}
